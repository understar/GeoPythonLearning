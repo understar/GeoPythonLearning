{
 "cells": [
  {
   "cell_type": "markdown",
   "metadata": {
    "deletable": false,
    "editable": false,
    "nbgrader": {
     "cell_type": "markdown",
     "checksum": "1927c4d19f6a313032f5a4bfca859988",
     "grade": false,
     "grade_id": "cell-c0c00a79becb8149",
     "locked": true,
     "schema_version": 3,
     "solution": false,
     "task": false
    }
   },
   "source": [
    "## Problem 2 - Classifying temperatures (4 points)\n",
    "\n",
    "### Overview\n",
    "\n",
    "This problem is designed to introduce you to the very common and useful concept of data classification.\n",
    "In this problem your aim is to classify daily temperatures (in degrees Celsius) stored in the `temperatures` list into four different classes:\n",
    "\n",
    "- **Cold**: Temperatures of less than -2 degrees\n",
    "- **Slippery**: Temperatures equal to or warmer than -2 degrees, but less than +2 degrees\n",
    "- **Comfortable**: Temperatures equal to or warmer than +2 degrees, but less than +15 degrees\n",
    "- **Warm**: Temperatures equal to or warmer than +15 degrees\n",
    "\n",
    "To solve this problem, you should modify and fill in the missing parts in the following cells.\n",
    "\n",
    "### Tips for completing this problem\n",
    "\n",
    "- Use **exactly** the same variable names as in the instructions because your answers will be automatically graded, and the tests that grade your answers rely on following the same formatting or variable naming as in the instructions.\n",
    "- **Please do not change the file names**. Do all of your editing in the provided `Exercise-3-problem-2.ipynb` file (this file).\n",
    "- **Please do not copy/paste code cells in this notebook**. We use an automated grading system that will fail if there are copies of code cells.\n",
    "\n",
    "### Scores for this problem\n",
    "\n",
    "**Your score on this problem will be based on following criteria:**\n",
    "\n",
    " - Using a for loop to iterate over the temperature values\n",
    " - Using conditional statements to find out if a value is within certain value range (class)\n",
    " - Printing information for the user\n",
    " - Including comments that explain what most lines in the code do\n",
    " - Uploading your notebook to your GitHub repository for this week's exercise"
   ]
  },
  {
   "cell_type": "markdown",
   "metadata": {
    "deletable": false,
    "editable": false,
    "nbgrader": {
     "cell_type": "markdown",
     "checksum": "d8496122516f8d49c11321a55ae40f11",
     "grade": false,
     "grade_id": "cell-ea6af1904d783269",
     "locked": true,
     "schema_version": 3,
     "solution": false
    }
   },
   "source": [
    "## Data description\n",
    "\n",
    "The data for this problem comprise a list of night-time, daytime and evening temperatures for April 2013 recorded at the Helsinki Malmi Airport. The list contains 90 values since there are 3 values for each day (and April has 30 days). The first value of a given day represents night, the second one is for the daytime, and the third one is for the evening temperature."
   ]
  },
  {
   "cell_type": "code",
   "execution_count": 3,
   "metadata": {
    "deletable": false,
    "editable": false,
    "nbgrader": {
     "cell_type": "code",
     "checksum": "25a39203024a788fe4c532454c5b74ff",
     "grade": false,
     "grade_id": "cell-ecd9721955db9637",
     "locked": true,
     "schema_version": 3,
     "solution": false
    }
   },
   "outputs": [],
   "source": [
    "temperatures = [-5.4, 1.0, -1.3, -4.8, 3.9, 0.1, -4.4, 4.0, -2.2, -3.9, 4.4,\n",
    "                -2.5, -4.6, 5.1, 2.1, -2.4, 1.9, -3.3, -4.8, 1.0, -0.8, -2.8,\n",
    "                -0.1, -4.7, -5.6, 2.6, -2.7, -4.6, 3.4, -0.4, -0.9, 3.1, 2.4,\n",
    "                1.6, 4.2, 3.5, 2.6, 3.1, 2.2, 1.8, 3.3, 1.6, 1.5, 4.7, 4.0,\n",
    "                3.6, 4.9, 4.8, 5.3, 5.6, 4.1, 3.7, 7.6, 6.9, 5.1, 6.4, 3.8,\n",
    "                4.0, 8.6, 4.1, 1.4, 8.9, 3.0, 1.6, 8.5, 4.7, 6.6, 8.1, 4.5,\n",
    "                4.8, 11.3, 4.7, 5.2, 11.5, 6.2, 2.9, 4.3, 2.8, 2.8, 6.3, 2.6,\n",
    "                -0.0, 7.3, 3.4, 4.7, 9.3, 6.4, 5.4, 7.6, 5.2]"
   ]
  },
  {
   "cell_type": "markdown",
   "metadata": {
    "deletable": false,
    "editable": false,
    "nbgrader": {
     "cell_type": "markdown",
     "checksum": "ca10ac65eec150200b2c26fb8b63c051",
     "grade": false,
     "grade_id": "cell-762b7d4f3ec9210d",
     "locked": true,
     "schema_version": 3,
     "solution": false
    }
   },
   "source": [
    "### Part 1 (0.5 points)\n",
    "\n",
    "- Create four empty lists for the different temperature classes:\n",
    "\n",
    "    - `cold`\n",
    "    - `slippery`\n",
    "    - `comfortable`\n",
    "    - `warm`\n",
    "  \n",
    "Be sure to use these **exact** names for your lists."
   ]
  },
  {
   "cell_type": "code",
   "execution_count": 1,
   "metadata": {
    "deletable": false,
    "nbgrader": {
     "cell_type": "code",
     "checksum": "777e9d360cf566831338b62472f70e69",
     "grade": false,
     "grade_id": "problem_2_ag_p1_temp_lists",
     "locked": false,
     "schema_version": 3,
     "solution": true
    }
   },
   "outputs": [],
   "source": [
    "cold = []\n",
    "slippery = []\n",
    "comfortable = []\n",
    "warm = []"
   ]
  },
  {
   "cell_type": "code",
   "execution_count": 2,
   "metadata": {
    "deletable": false,
    "editable": false,
    "nbgrader": {
     "cell_type": "code",
     "checksum": "80e68b07a255852fb45563ce42b81d99",
     "grade": true,
     "grade_id": "problem_2_ag_p1_temp_lists_test1",
     "locked": true,
     "points": 0.5,
     "schema_version": 3,
     "solution": false
    }
   },
   "outputs": [
    {
     "name": "stdout",
     "output_type": "stream",
     "text": [
      "[] [] [] []\n"
     ]
    }
   ],
   "source": [
    "# Test print for all lists (they should be empty at this point)\n",
    "print(cold, slippery, comfortable, warm)"
   ]
  },
  {
   "cell_type": "markdown",
   "metadata": {
    "deletable": false,
    "editable": false,
    "nbgrader": {
     "cell_type": "markdown",
     "checksum": "2a2326a8231866086533b5359a2faa3b",
     "grade": false,
     "grade_id": "cell-15c382eeab374716",
     "locked": true,
     "schema_version": 3,
     "solution": false
    }
   },
   "source": [
    "### Part 2 (2 points)\n",
    "\n",
    "Iterate over the temperatures and add temperatures to the different temperature classes defined below:\n",
    "\n",
    "- **Cold**: Temperatures of less than -2 degrees\n",
    "- **Slippery**: Temperatures equal to or warmer than -2 degrees, but less than +2 degrees\n",
    "- **Comfortable**: Temperatures equal to or warmer than +2 degrees, but less than +15 degrees\n",
    "- **Warm**: Temperatures equal to or warmer than +15 degrees"
   ]
  },
  {
   "cell_type": "code",
   "execution_count": 4,
   "metadata": {
    "deletable": false,
    "nbgrader": {
     "cell_type": "code",
     "checksum": "d7058b98aa6a8610bd0948c025e4bdae",
     "grade": false,
     "grade_id": "problem_2_ag_p2_temp_classes",
     "locked": false,
     "schema_version": 3,
     "solution": true
    }
   },
   "outputs": [],
   "source": [
    "for t in temperatures:\n",
    "    if t < -2: # Temperatures of less than -2 degrees\n",
    "      cold.append(t)\n",
    "    elif t >= -2 and t < 2: # Temperatures equal to or warmer than -2 degrees, but less than +2 degrees\n",
    "      slippery.append(t)\n",
    "    elif t >= 2 and t < 15: # Temperatures equal to or warmer than +2 degrees, but less than +15 degrees\n",
    "       comfortable.append(t)\n",
    "    elif t >= 15: # Warm: Temperatures equal to or warmer than +15 degrees\n",
    "       warm.append(t)"
   ]
  },
  {
   "cell_type": "code",
   "execution_count": 5,
   "metadata": {
    "deletable": false,
    "editable": false,
    "nbgrader": {
     "cell_type": "code",
     "checksum": "455cad8de5129bdd71e8fc618c55fbae",
     "grade": true,
     "grade_id": "problem_2_ag_p2_temp_classes_test1",
     "locked": true,
     "points": 2,
     "schema_version": 3,
     "solution": false
    }
   },
   "outputs": [
    {
     "name": "stdout",
     "output_type": "stream",
     "text": [
      "[-5.4, -4.8, -4.4, -2.2, -3.9, -2.5, -4.6, -2.4, -3.3, -4.8, -2.8, -4.7, -5.6, -2.7, -4.6] [1.0, -1.3, 0.1, 1.9, 1.0, -0.8, -0.1, -0.4, -0.9, 1.6, 1.8, 1.6, 1.5, 1.4, 1.6, -0.0] [3.9, 4.0, 4.4, 5.1, 2.1, 2.6, 3.4, 3.1, 2.4, 4.2, 3.5, 2.6, 3.1, 2.2, 3.3, 4.7, 4.0, 3.6, 4.9, 4.8, 5.3, 5.6, 4.1, 3.7, 7.6, 6.9, 5.1, 6.4, 3.8, 4.0, 8.6, 4.1, 8.9, 3.0, 8.5, 4.7, 6.6, 8.1, 4.5, 4.8, 11.3, 4.7, 5.2, 11.5, 6.2, 2.9, 4.3, 2.8, 2.8, 6.3, 2.6, 7.3, 3.4, 4.7, 9.3, 6.4, 5.4, 7.6, 5.2] []\n"
     ]
    }
   ],
   "source": [
    "# Test prints for all lists (now they should contain values)\n",
    "print(cold, slippery, comfortable, warm)\n"
   ]
  },
  {
   "cell_type": "markdown",
   "metadata": {
    "deletable": false,
    "editable": false,
    "nbgrader": {
     "cell_type": "markdown",
     "checksum": "c9d0a40eab1998a6afab976433c1ac55",
     "grade": false,
     "grade_id": "cell-1126e21066f72de8",
     "locked": true,
     "schema_version": 3,
     "solution": false
    }
   },
   "source": [
    "### Part 3 (1.5 points)\n",
    "\n",
    "Please answer the following questions by modifying the Python cells below:\n",
    "\n",
    "- How many times was it slippery during the study period?"
   ]
  },
  {
   "cell_type": "code",
   "execution_count": 6,
   "metadata": {
    "deletable": false,
    "nbgrader": {
     "cell_type": "code",
     "checksum": "5b83b7d982318df856e8c3ea7869d668",
     "grade": false,
     "grade_id": "problem_2_ag_p3_slippery_times",
     "locked": false,
     "schema_version": 3,
     "solution": true
    }
   },
   "outputs": [],
   "source": [
    "# Edit the variable to find correct answer\n",
    "slippery_times = len(slippery)"
   ]
  },
  {
   "cell_type": "code",
   "execution_count": 7,
   "metadata": {
    "deletable": false,
    "editable": false,
    "nbgrader": {
     "cell_type": "code",
     "checksum": "91fbb329aa91e9c1505183aa5fa3d880",
     "grade": true,
     "grade_id": "problem_2_ag_p3_slippery_times_test1",
     "locked": true,
     "points": 0.5,
     "schema_version": 3,
     "solution": false
    }
   },
   "outputs": [
    {
     "name": "stdout",
     "output_type": "stream",
     "text": [
      "In April 2013 it was slippery 16 times.\n"
     ]
    }
   ],
   "source": [
    "# Print the answer\n",
    "print(f\"In April 2013 it was slippery {slippery_times} times.\")"
   ]
  },
  {
   "cell_type": "markdown",
   "metadata": {
    "deletable": false,
    "editable": false,
    "nbgrader": {
     "cell_type": "markdown",
     "checksum": "d1fa64ea2fba9b3dd2f8af04e78ed7a5",
     "grade": false,
     "grade_id": "cell-373794962a4894e5",
     "locked": true,
     "schema_version": 3,
     "solution": false
    }
   },
   "source": [
    "\n",
    "- How many times was it warm during the study period?"
   ]
  },
  {
   "cell_type": "code",
   "execution_count": 8,
   "metadata": {
    "deletable": false,
    "nbgrader": {
     "cell_type": "code",
     "checksum": "2c6abaaac46f1f56e69eaf97649cbd29",
     "grade": false,
     "grade_id": "problem_2_ag_p3_warm_times",
     "locked": false,
     "schema_version": 3,
     "solution": true
    }
   },
   "outputs": [],
   "source": [
    "# Edit the variable to find correct answer\n",
    "warm_times = len(warm)"
   ]
  },
  {
   "cell_type": "code",
   "execution_count": 9,
   "metadata": {
    "deletable": false,
    "editable": false,
    "nbgrader": {
     "cell_type": "code",
     "checksum": "15c6d24826d6420c6402c4d5201b6750",
     "grade": true,
     "grade_id": "problem_2_ag_p3_warm_times_test1",
     "locked": true,
     "points": 0.5,
     "schema_version": 3,
     "solution": false
    }
   },
   "outputs": [
    {
     "name": "stdout",
     "output_type": "stream",
     "text": [
      "In April 2013 it was warm 0 times.\n"
     ]
    }
   ],
   "source": [
    "# Print the answer\n",
    "print(f\"In April 2013 it was warm {warm_times} times.\")"
   ]
  },
  {
   "cell_type": "markdown",
   "metadata": {
    "deletable": false,
    "editable": false,
    "nbgrader": {
     "cell_type": "markdown",
     "checksum": "5938f30a95b356c97a0a43bf86304669",
     "grade": false,
     "grade_id": "cell-b107b9404240484f",
     "locked": true,
     "schema_version": 3,
     "solution": false
    }
   },
   "source": [
    "- How many times was it cold during the study period?"
   ]
  },
  {
   "cell_type": "code",
   "execution_count": 10,
   "metadata": {
    "deletable": false,
    "nbgrader": {
     "cell_type": "code",
     "checksum": "17991d76bae4682005457d6aa0a01858",
     "grade": false,
     "grade_id": "problem_2_ag_p3_cold_times",
     "locked": false,
     "schema_version": 3,
     "solution": true
    }
   },
   "outputs": [],
   "source": [
    "# Edit the variable to find correct answer\n",
    "cold_times = len(cold)"
   ]
  },
  {
   "cell_type": "code",
   "execution_count": 11,
   "metadata": {
    "deletable": false,
    "editable": false,
    "nbgrader": {
     "cell_type": "code",
     "checksum": "12caf19ff9d27fbefa2482c6349046c9",
     "grade": true,
     "grade_id": "problem_2_ag_p3_cold_times_test1",
     "locked": true,
     "points": 0.5,
     "schema_version": 3,
     "solution": false
    }
   },
   "outputs": [
    {
     "name": "stdout",
     "output_type": "stream",
     "text": [
      "In April 2013 it was cold 15 times.\n"
     ]
    }
   ],
   "source": [
    "# Print the answer\n",
    "print(f\"In April 2013 it was cold {cold_times} times.\")"
   ]
  },
  {
   "cell_type": "markdown",
   "metadata": {
    "deletable": false,
    "editable": false,
    "nbgrader": {
     "cell_type": "markdown",
     "checksum": "9ec340dacfee95845bb1cb982cde2fad",
     "grade": false,
     "grade_id": "cell-5608b79175d15ce2",
     "locked": true,
     "schema_version": 3,
     "solution": false
    }
   },
   "source": [
    "### Part 4 (0 points)\n",
    "\n",
    "Here, we ask a few questions to make sure you have understood the concepts in this problem. Answer shortly in a few sentences using the Markdown cell below.\n",
    "\n",
    "You can also write any feedback or questions concerning this problem in this Markdown cell.\n",
    "\n",
    "1. Is the concept of conditional statements clear to you? If not, what is difficult to understand?\n",
    "2. Did you include comments in your code blocks? If not, do it now :) \n",
    "  \n",
    "Write your answers below (double click to activate and edit the cell below)."
   ]
  },
  {
   "cell_type": "markdown",
   "metadata": {
    "deletable": false,
    "nbgrader": {
     "cell_type": "markdown",
     "checksum": "b7f659283744163ded10ba6c02cda90c",
     "grade": true,
     "grade_id": "problem_2_mg_p4_style_assessment",
     "locked": false,
     "points": 0,
     "schema_version": 3,
     "solution": true
    }
   },
   "source": [
    "YOUR ANSWER HERE"
   ]
  },
  {
   "cell_type": "markdown",
   "metadata": {
    "deletable": false,
    "editable": false,
    "nbgrader": {
     "cell_type": "markdown",
     "checksum": "73370a8ce79a0eb3199b2f48289964c0",
     "grade": false,
     "grade_id": "cell-90b7b78e0445d159",
     "locked": true,
     "schema_version": 3,
     "solution": false
    }
   },
   "source": [
    "### Done!\n",
    "\n",
    "That's it! Now you are ready to continue with [Problem 3](Exercise-3-problem-3.ipynb)."
   ]
  }
 ],
 "metadata": {
  "anaconda-cloud": {},
  "kernelspec": {
   "display_name": "Python 3 (ipykernel)",
   "language": "python",
   "name": "python3"
  },
  "language_info": {
   "codemirror_mode": {
    "name": "ipython",
    "version": 3
   },
   "file_extension": ".py",
   "mimetype": "text/x-python",
   "name": "python",
   "nbconvert_exporter": "python",
   "pygments_lexer": "ipython3",
   "version": "3.11.4"
  }
 },
 "nbformat": 4,
 "nbformat_minor": 2
}
