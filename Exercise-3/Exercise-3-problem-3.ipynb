{
 "cells": [
  {
   "cell_type": "markdown",
   "metadata": {
    "deletable": false,
    "editable": false,
    "nbgrader": {
     "cell_type": "markdown",
     "checksum": "b0affc421ec0287dd113f4e5cb44903a",
     "grade": false,
     "grade_id": "cell-5c68af490e1d2129",
     "locked": true,
     "schema_version": 3,
     "solution": false
    }
   },
   "source": [
    "## Problem 3 - Allocating locations (4 points)\n",
    "\n",
    "### Overview\n",
    "\n",
    "The map below shows the locations of weather stations in Finland (blue points) that are more than 70 years old [1].\n",
    "In this problem we are interested to find out whether the station network was equally distributed across Finland\n",
    "seventy years ago. We have divided Finland into four geographical zones (Northwest, Northeast, Southwest, Southeast) according the approximate center point of the Finnish mainland located at `26.3, 64.5` (longitude, latitude in decimal degrees).\n",
    "\n",
    "![FMI stations](img/FMI_stations_70_years_older.png)\n",
    "\n",
    "[1]: The locations and the age of weather stations were obtained from: http://en.ilmatieteenlaitos.fi/observation-stations\n",
    "\n",
    "Below, we have given you the coordinates of 34 weather stations.\n",
    "The location of a single station is determined with a pair of latitude and longitude coordinates.\n",
    "The coordinates of all the stations are separated into two lists (`lat` and `lon`) and the names of the stations are in the `stations` list. From these lists, you would get, for example, the location of the first station by combining the latitude and longitude coordinates from the coordinate lists, and the name of that station from the `stations` list at index `0`.\n",
    "\n",
    "### Problem statement\n",
    "\n",
    "In this problem your task is to print the names of weather stations located in different zones. **Optionally**, you can also report the share of weather stations that allocated to each zone that could be used to evaluate if certain zone was over/under-represented 70 years ago. This optional task does not affect your score on this problem.\n",
    "\n",
    "To solve this problem, you should modify and fill in the missing parts in the code cells below.\n",
    "\n",
    "### Tips for completing this problem\n",
    "\n",
    "- Use **exactly** the same variable names as in the instructions because your answers will be automatically graded, and the tests that grade your answers rely on following the same formatting or variable naming as in the instructions.\n",
    "- **Please do not change the file names**. Do all of your editing in the provided `Exercise-3-problem-3.ipynb` file (this file).\n",
    "- **Please do not copy/paste code cells in this notebook**. We use an automated grading system that will fail if there are copies of code cells.\n",
    "\n",
    "### Scores for this problem\n",
    "\n",
    "**Your score on this problem will be based on following criteria:**\n",
    "\n",
    "- Creating four lists for geographical zones in Finland (i.e. `nort_west`, `north_east`, `south_west`, `south_east`)\n",
    "- Iterating over the values and determining to which geographical zone the station belongs\n",
    "    - Hint: You should create a loop that iterates `n` times. Create a variable *`n`* that should contain the number of stations we have here.\n",
    "    - You should use a conditional statement to find out if the latitude coordinate of a station is either North or South of the center point of Finland (`26.3, 64.5`) **AND** if the longitude location is West or East of that center point.\n",
    "    - You should insert the name of the station into the correct geographical zone list\n",
    "- Printing out the names of stations in each geographical zone"
   ]
  },
  {
   "cell_type": "markdown",
   "metadata": {
    "deletable": false,
    "editable": false,
    "nbgrader": {
     "cell_type": "markdown",
     "checksum": "a9c414a2b7d5b67ace0d0b3b4c71c5b6",
     "grade": false,
     "grade_id": "cell-5c0a48bd858489b8",
     "locked": true,
     "schema_version": 3,
     "solution": false
    }
   },
   "source": [
    "## The data\n",
    "\n",
    "Here, we provide the data you should use to solve Problem 3 (run the cell to store values in memory)."
   ]
  },
  {
   "cell_type": "code",
   "execution_count": null,
   "metadata": {
    "deletable": false,
    "editable": false,
    "nbgrader": {
     "cell_type": "code",
     "checksum": "dbe4140e5913699f7487be22e490b39f",
     "grade": false,
     "grade_id": "cell-888d0ee752aed9d0",
     "locked": true,
     "schema_version": 3,
     "solution": false
    }
   },
   "outputs": [],
   "source": [
    "# Station names\n",
    "stations = ['Hanko Russarö', 'Heinola Asemantaus', 'Helsinki Kaisaniemi', \n",
    "            'Helsinki Malmi airfield', 'Hyvinkää Hyvinkäänkylä', 'Joutsa Savenaho', \n",
    "            'Juuka Niemelä', 'Jyväskylä airport', 'Kaarina Yltöinen', 'Kauhava airfield', \n",
    "            'Kemi Kemi-Tornio airport', 'Kotka Rankki', 'Kouvola Anjala', \n",
    "            'Kouvola Utti airport', 'Kuopio Maaninka', 'Kuusamo airport', \n",
    "            'Lieksa Lampela', 'Mustasaari Valassaaret', 'Parainen Utö', 'Pori airport', \n",
    "            'Rovaniemi Apukka', 'Salo Kärkkä', 'Savonlinna Punkaharju Laukansaari', \n",
    "            'Seinäjoki Pelmaa', 'Siikajoki Ruukki', 'Siilinjärvi Kuopio airport', \n",
    "            'Tohmajärvi Kemie', 'Utsjoki Nuorgam', 'Vaala Pelso', 'Vaasa airport', \n",
    "            'Vesanto Sonkari', 'Vieremä Kaarakkala', 'Vihti Maasoja', 'Ylitornio Meltosjärvi']\n",
    "\n",
    "# Latitude coordinates of Weather stations  \n",
    "lats = [59.77, 61.2, 60.18, 60.25, 60.6, 61.88, 63.23, 62.4,\n",
    "       60.39, 63.12, 65.78, 60.38, 60.7, 60.9, 63.14, 65.99,\n",
    "       63.32, 63.44, 59.78, 61.47, 66.58, 60.37, 61.8, 62.94,\n",
    "       64.68, 63.01, 62.24, 70.08, 64.501, 63.06, 62.92, 63.84,\n",
    "       60.42, 66.53]\n",
    "\n",
    "# Longitude coordinates of Weather stations \n",
    "lons = [22.95, 26.05, 24.94, 25.05, 24.8, 26.09, 29.23, 25.67, \n",
    "       22.55, 23.04, 24.58, 26.96, 26.81, 26.95, 27.31, 29.23, \n",
    "       30.05, 21.07, 21.37, 21.79, 26.01, 23.11, 29.32, 22.49, \n",
    "       25.09, 27.8, 30.35, 27.9, 26.42, 21.75, 26.42, 27.22, \n",
    "       24.4, 24.65]\n",
    "\n",
    "# Cutoff values that correspond to the centroid of Finnish mainland\n",
    "# North - South\n",
    "north_south_cutoff = 64.5\n",
    "\n",
    "# East-West\n",
    "east_west_cutoff = 26.3"
   ]
  },
  {
   "cell_type": "markdown",
   "metadata": {
    "deletable": false,
    "editable": false,
    "nbgrader": {
     "cell_type": "markdown",
     "checksum": "c1b15c071da222a9ca87476ac7a6baee",
     "grade": false,
     "grade_id": "cell-58b0a649f63e9d38",
     "locked": true,
     "schema_version": 3,
     "solution": false
    }
   },
   "source": [
    "### Part 1 (0.5 points)\n",
    "\n",
    "- Create four empty lists for the geographical zones in Finland. Use **exactly** these variable names:\n",
    "   - `north_west`\n",
    "   - `north_east`\n",
    "   - `south_west`\n",
    "   - `south_east`"
   ]
  },
  {
   "cell_type": "code",
   "execution_count": null,
   "metadata": {
    "deletable": false,
    "nbgrader": {
     "cell_type": "code",
     "checksum": "bb76f9cfd25ed98e99072314f59097a5",
     "grade": false,
     "grade_id": "problem_3_ag_p1_geo_zones",
     "locked": false,
     "schema_version": 3,
     "solution": true
    }
   },
   "outputs": [],
   "source": [
    "# YOUR CODE HERE\n",
    "raise NotImplementedError()"
   ]
  },
  {
   "cell_type": "code",
   "execution_count": null,
   "metadata": {
    "deletable": false,
    "editable": false,
    "nbgrader": {
     "cell_type": "code",
     "checksum": "b766e47b1852af4640480e5fd2eac01e",
     "grade": true,
     "grade_id": "problem_3_ag_p1_geo_zones_test1",
     "locked": true,
     "points": 0.5,
     "schema_version": 3,
     "solution": false
    }
   },
   "outputs": [],
   "source": [
    "# This test print should work\n",
    "print(north_west, south_west)\n"
   ]
  },
  {
   "cell_type": "markdown",
   "metadata": {
    "deletable": false,
    "editable": false,
    "nbgrader": {
     "cell_type": "markdown",
     "checksum": "da12c555c2c6f4d6558f23b90e7df5fe",
     "grade": false,
     "grade_id": "cell-8fbea85320420b00",
     "locked": true,
     "schema_version": 3,
     "solution": false
    }
   },
   "source": [
    "### Part 2 (0.5 points)\n",
    "\n",
    "- Count the total number of stations and store that value in the variable `n`."
   ]
  },
  {
   "cell_type": "code",
   "execution_count": null,
   "metadata": {
    "deletable": false,
    "nbgrader": {
     "cell_type": "code",
     "checksum": "65bf512f27403a124f2b3a3b9689a54e",
     "grade": false,
     "grade_id": "problem_3_ag_p2_station_count",
     "locked": false,
     "schema_version": 3,
     "solution": true
    }
   },
   "outputs": [],
   "source": [
    "# YOUR CODE HERE\n",
    "raise NotImplementedError()"
   ]
  },
  {
   "cell_type": "code",
   "execution_count": null,
   "metadata": {
    "deletable": false,
    "editable": false,
    "nbgrader": {
     "cell_type": "code",
     "checksum": "cf09a6caa084fbedce72bd815489a6d5",
     "grade": true,
     "grade_id": "problem_3_ag_p2_station_count_test1",
     "locked": true,
     "points": 0.5,
     "schema_version": 3,
     "solution": false
    }
   },
   "outputs": [],
   "source": [
    "# How many stations do we have?\n",
    "print(f\"In the dataset there are {n} stations.\")"
   ]
  },
  {
   "cell_type": "markdown",
   "metadata": {
    "deletable": false,
    "editable": false,
    "nbgrader": {
     "cell_type": "markdown",
     "checksum": "75df142f1963df6673e972f62a96b430",
     "grade": false,
     "grade_id": "cell-86baf64c3b574d9a",
     "locked": true,
     "schema_version": 3,
     "solution": false
    }
   },
   "source": [
    "### Part 3 (0 points)\n",
    "\n",
    "- Make a loop that iterates `n` times, and allocates stations to different geographical zones based on their coordinates. "
   ]
  },
  {
   "cell_type": "code",
   "execution_count": null,
   "metadata": {
    "deletable": false,
    "nbgrader": {
     "cell_type": "code",
     "checksum": "524aaa474d18a0a90254509328875ec9",
     "grade": false,
     "grade_id": "problem_3_ag_p3_allocate_stations",
     "locked": false,
     "schema_version": 3,
     "solution": true
    }
   },
   "outputs": [],
   "source": [
    "# YOUR CODE HERE\n",
    "raise NotImplementedError()"
   ]
  },
  {
   "cell_type": "markdown",
   "metadata": {
    "deletable": false,
    "editable": false,
    "nbgrader": {
     "cell_type": "markdown",
     "checksum": "3d507090fb68d8cf14076355c887c0f5",
     "grade": false,
     "grade_id": "cell-f448b8ec4ea497ba",
     "locked": true,
     "schema_version": 3,
     "solution": false
    }
   },
   "source": [
    "### Part 4  (2 points)\n",
    "\n",
    "- In the following cells, you should print out the correct station names for each geographical zone.\n",
    "    - We have given you the correct number of stations as a hint for each zone, so it is easier for you to know whether you have correct answer. "
   ]
  },
  {
   "cell_type": "code",
   "execution_count": null,
   "metadata": {
    "deletable": false,
    "editable": false,
    "nbgrader": {
     "cell_type": "code",
     "checksum": "0b9c2165c6c8f5dd5764ed126d9bb834",
     "grade": true,
     "grade_id": "problem_3_ag_p4_allocate_stations_test_nw",
     "locked": true,
     "points": 0.5,
     "schema_version": 3,
     "solution": false
    }
   },
   "outputs": [],
   "source": [
    "# This test print should print out station names in North West\n",
    "# Hint: there should be 4 stations in this class\n",
    "print(f\"The names of the Northwest stations are:\\n{north_west}\")"
   ]
  },
  {
   "cell_type": "code",
   "execution_count": null,
   "metadata": {
    "deletable": false,
    "editable": false,
    "nbgrader": {
     "cell_type": "code",
     "checksum": "6e22de1b3cad3e2be31ef06a350f1d54",
     "grade": true,
     "grade_id": "problem_3_ag_p4_allocate_stations_test_ne",
     "locked": true,
     "points": 0.5,
     "schema_version": 3,
     "solution": false
    }
   },
   "outputs": [],
   "source": [
    "# This test print should print out station names in North Eest\n",
    "# Hint: there should be 3 stations in this class\n",
    "print(f\"The names of the Northeast stations are:\\n{north_east}\")"
   ]
  },
  {
   "cell_type": "code",
   "execution_count": null,
   "metadata": {
    "deletable": false,
    "editable": false,
    "nbgrader": {
     "cell_type": "code",
     "checksum": "2d0d3b8de82684c2994487190a05cf65",
     "grade": true,
     "grade_id": "problem_3_ag_p4_allocate_stations_test_sw",
     "locked": true,
     "points": 0.5,
     "schema_version": 3,
     "solution": false
    }
   },
   "outputs": [],
   "source": [
    "# This test print should print out station names in South West\n",
    "# Hint: there should be 16 stations in this class\n",
    "print(f\"The names of the Southwest stations are:\\n{south_west}\")"
   ]
  },
  {
   "cell_type": "code",
   "execution_count": null,
   "metadata": {
    "deletable": false,
    "editable": false,
    "nbgrader": {
     "cell_type": "code",
     "checksum": "66f821505606f28187e14325f4480f58",
     "grade": true,
     "grade_id": "problem_3_ag_p4_allocate_stations_test_se",
     "locked": true,
     "points": 0.5,
     "schema_version": 3,
     "solution": false
    }
   },
   "outputs": [],
   "source": [
    "# This test print should print out station names in South East\n",
    "# Hint: there should be 11 stations in this class\n",
    "print(f\"The names of the Southeast stations are:\\n{south_east}\")"
   ]
  },
  {
   "cell_type": "markdown",
   "metadata": {
    "deletable": false,
    "editable": false,
    "nbgrader": {
     "cell_type": "markdown",
     "checksum": "e53b54d77f27f58ebfbbebb4ea9a35c7",
     "grade": false,
     "grade_id": "cell-76781d52bc8f568f",
     "locked": true,
     "schema_version": 3,
     "solution": false
    }
   },
   "source": [
    "### Part 5 (*1 point*)\n",
    "\n",
    "Here, we ask a few questions to make sure you have understood the concepts in this problem. Answer briefly with in few sentences using the Markdown cell below.\n",
    "\n",
    "You can also write any feedback or questions concerning this problem in this Markdown cell.\n",
    "\n",
    "1. Is the concept of using the `and` operator and the difference between the `if`, `elif`, and `else` conditional statements clear to you? If not, what is difficult to understand?\n",
    "2. Did you include comments in your code blocks? If not, please add them now :)\n",
    "\n",
    "Write your answers below (double click to activate and edit the cell below)."
   ]
  },
  {
   "cell_type": "markdown",
   "metadata": {
    "collapsed": true,
    "deletable": false,
    "nbgrader": {
     "cell_type": "markdown",
     "checksum": "8dbb92dc2d67c5c172560786ec580985",
     "grade": true,
     "grade_id": "problem_3_mg_p5_style_assessment",
     "locked": false,
     "points": 1,
     "schema_version": 3,
     "solution": true
    }
   },
   "source": [
    "YOUR ANSWER HERE"
   ]
  },
  {
   "cell_type": "markdown",
   "metadata": {
    "deletable": false,
    "editable": false,
    "nbgrader": {
     "cell_type": "markdown",
     "checksum": "55fb2c02ec5ce264f1e955b1e07640cf",
     "grade": false,
     "grade_id": "cell-d4b559885f7f59c2",
     "locked": true,
     "schema_version": 3,
     "solution": false
    }
   },
   "source": [
    "### Part 6 (*optional*; 0 points)\n",
    "\n",
    "- Print the percentage of stations in each geographical zone\n",
    "    - Store the answers into variables:\n",
    "        - `north_west_share`\n",
    "        - `north_east_share`\n",
    "        - `south_west_share`\n",
    "        - `south_east_share`"
   ]
  },
  {
   "cell_type": "code",
   "execution_count": null,
   "metadata": {
    "deletable": false,
    "nbgrader": {
     "cell_type": "code",
     "checksum": "fafcffbc8c1618382934bff39c963099",
     "grade": false,
     "grade_id": "problem_3_ag_p6_station_percentage",
     "locked": false,
     "schema_version": 3,
     "solution": true
    }
   },
   "outputs": [],
   "source": [
    "# YOUR CODE HERE\n",
    "raise NotImplementedError()"
   ]
  },
  {
   "cell_type": "markdown",
   "metadata": {
    "deletable": false,
    "editable": false,
    "nbgrader": {
     "cell_type": "markdown",
     "checksum": "25a2354980cc4b20ac74cb038f6ff70f",
     "grade": false,
     "grade_id": "cell-0b1ab3acecf88dc2",
     "locked": true,
     "schema_version": 3,
     "solution": false
    }
   },
   "source": [
    "- Print the results following format: \"Northwest contains 99 % of all stations.\" (this is an example not a correct answer)"
   ]
  },
  {
   "cell_type": "code",
   "execution_count": null,
   "metadata": {
    "deletable": false,
    "editable": false,
    "nbgrader": {
     "cell_type": "code",
     "checksum": "66646df443c891222e0a4e97b8724a88",
     "grade": true,
     "grade_id": "problem_3_ag_p6_station_percentage_test1",
     "locked": true,
     "points": 0,
     "schema_version": 3,
     "solution": false
    }
   },
   "outputs": [],
   "source": [
    "# Print the information (you don't need to modify this)\n",
    "# Note we are using f-strings here\n",
    "# .0f rounds the decimal values to whole numbers\n",
    "print(f\"Northwest contains {north_west_share:.0f}% of all stations.\")\n",
    "print(f\"Northeast contains {north_east_share:.0f}% of all stations.\")\n",
    "print(f\"Southwest contains {south_west_share:.0f}% of all stations.\")\n",
    "print(f\"Southeast contains {south_east_share:.0f}% of all stations.\")\n"
   ]
  },
  {
   "cell_type": "markdown",
   "metadata": {
    "deletable": false,
    "editable": false,
    "nbgrader": {
     "cell_type": "markdown",
     "checksum": "5f76ffe0e86dc86104b970cae69049a8",
     "grade": false,
     "grade_id": "cell-3f9de2a687973d48",
     "locked": true,
     "schema_version": 3,
     "solution": false
    }
   },
   "source": [
    "### Done!\n",
    "\n",
    "That's it! Now you have finished all the assignments for this week!\n",
    "\n",
    "If you want, you can still continue with the *optional* (but fun!) [Problem 4](Exercise-3-problem-4.ipynb)."
   ]
  }
 ],
 "metadata": {
  "kernelspec": {
   "display_name": "Python 3 (ipykernel)",
   "language": "python",
   "name": "python3"
  },
  "language_info": {
   "codemirror_mode": {
    "name": "ipython",
    "version": 3
   },
   "file_extension": ".py",
   "mimetype": "text/x-python",
   "name": "python",
   "nbconvert_exporter": "python",
   "pygments_lexer": "ipython3",
   "version": "3.10.6"
  }
 },
 "nbformat": 4,
 "nbformat_minor": 2
}
