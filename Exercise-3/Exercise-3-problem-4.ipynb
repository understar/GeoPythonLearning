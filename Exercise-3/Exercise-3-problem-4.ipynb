{
 "cells": [
  {
   "cell_type": "markdown",
   "metadata": {
    "deletable": false,
    "editable": false,
    "nbgrader": {
     "cell_type": "markdown",
     "checksum": "4c2a88f9e16dc21a750b5ce6520095e4",
     "grade": false,
     "grade_id": "cell-0f5198aff98ef512",
     "locked": true,
     "schema_version": 3,
     "solution": false
    }
   },
   "source": [
    "## Problem 4 - Nested `for` loops (*optional, does not affect your grade*)\n",
    "\n",
    "**Warning:** This is a more difficult problem.\n",
    "You are welcome to try to do this task if you are up for a little challenge and have confidence in your programming skills. :) \n",
    "\n",
    "In addition to having single `for` loops that iterate across some variable range, it is possible to *nest* `for` loops within one another.\n",
    "\n",
    "Consider the example below:\n",
    "\n",
    "```python\n",
    ">>> for char in 'dog':\n",
    "...     for char2 in 'cat':\n",
    "...         print (char, char2)\n",
    "    d c\n",
    "    d a\n",
    "    d t\n",
    "    o c\n",
    "    o a\n",
    "    o t\n",
    "    g c\n",
    "    g a\n",
    "    g t\n",
    "```\n",
    "\n",
    "Here, you can see that in the first pass through the first `for` loop, the value of `char` is `d`.\n",
    "Entering the inner (or nested) loop, `char2` is set to `c`.\n",
    "After this, the output is written to the screen and since there are more letters to loop over in the inner `for` loop, the value of `char2` will be updated upon the next pass.\n",
    "The second time through the inner loop, `char2` is set to `a` while `char` remains `d`.\n",
    "Like this, the inner loop will run through all of the letters in `cat` for each time that `char` is updated in the outer loop.\n",
    "It doesn't take too much imagination to figure out this is a very useful concept.\n",
    "\n",
    "For this problem you should do following:\n",
    "\n",
    "1. Create a variable `star` with text `\"*\"` and an empty string variable `text`. Recall, you can created empty string variables by assigning `\"\"` as their value.\n",
    "2. Use nested `for` loops and the variables above to produce the text formation below when `print(text)` is run at the end of your script.\n",
    "\n",
    "    ```\n",
    "    *******\n",
    "    *******\n",
    "    *******\n",
    "    ```\n",
    "3. Create a variable `line` with text `\"-\"` and an empty string variable `flag`.\n",
    "4. Use nested `for` loops and the variables above to produce the text formation below when `print(flag)` is run at the end of your script. **Note**: You will need to use conditional statements to produce the desired output.\n",
    "\n",
    "    ```\n",
    "    *******------------\n",
    "    *******------------\n",
    "    *******------------\n",
    "    -------------------\n",
    "    -------------------\n",
    "    ```\n"
   ]
  },
  {
   "cell_type": "markdown",
   "metadata": {
    "deletable": false,
    "editable": false,
    "nbgrader": {
     "cell_type": "markdown",
     "checksum": "026e500238563002ae1a96932c15e5d7",
     "grade": false,
     "grade_id": "cell-4e5ab82001ecb87e",
     "locked": true,
     "schema_version": 3,
     "solution": false
    }
   },
   "source": [
    "### Part 1\n",
    "\n",
    "- Your code for producing the asterisk square:"
   ]
  },
  {
   "cell_type": "code",
   "execution_count": null,
   "metadata": {
    "deletable": false,
    "nbgrader": {
     "cell_type": "code",
     "checksum": "8aa5876aa49f226b72a0b533a4b50cb0",
     "grade": false,
     "grade_id": "problem_4_ag_p1_asterix_square",
     "locked": false,
     "schema_version": 3,
     "solution": true
    }
   },
   "outputs": [],
   "source": [
    "# YOUR CODE HERE\n",
    "raise NotImplementedError()\n",
    "text"
   ]
  },
  {
   "cell_type": "code",
   "execution_count": null,
   "metadata": {
    "deletable": false,
    "editable": false,
    "nbgrader": {
     "cell_type": "code",
     "checksum": "e336cd7c81ce2d4ffce4f5bd267afc81",
     "grade": true,
     "grade_id": "problem_4_ag_p1_asterix_square_test1",
     "locked": true,
     "points": 0,
     "schema_version": 3,
     "solution": false
    }
   },
   "outputs": [],
   "source": [
    "print(text)"
   ]
  },
  {
   "cell_type": "markdown",
   "metadata": {
    "deletable": false,
    "editable": false,
    "nbgrader": {
     "cell_type": "markdown",
     "checksum": "01bfa7fb83c593c2dd05f70138a8b713",
     "grade": false,
     "grade_id": "cell-612d3be673da10cc",
     "locked": true,
     "schema_version": 3,
     "solution": false
    }
   },
   "source": [
    "### Part 2\n",
    "\n",
    "- Your code for producing the flag:"
   ]
  },
  {
   "cell_type": "code",
   "execution_count": null,
   "metadata": {
    "deletable": false,
    "nbgrader": {
     "cell_type": "code",
     "checksum": "4fb83c08cbf46a1cfea871abadd46239",
     "grade": false,
     "grade_id": "problem_4_ag_p2_flag",
     "locked": false,
     "schema_version": 3,
     "solution": true
    }
   },
   "outputs": [],
   "source": [
    "# YOUR CODE HERE\n",
    "raise NotImplementedError()"
   ]
  },
  {
   "cell_type": "code",
   "execution_count": null,
   "metadata": {
    "deletable": false,
    "editable": false,
    "nbgrader": {
     "cell_type": "code",
     "checksum": "e006caa1fd814cfbbb976b25bfb94c51",
     "grade": true,
     "grade_id": "problem_4_ag_p2_flag_test",
     "locked": true,
     "points": 0,
     "schema_version": 3,
     "solution": false
    }
   },
   "outputs": [],
   "source": [
    "print(flag)"
   ]
  },
  {
   "cell_type": "markdown",
   "metadata": {
    "deletable": false,
    "editable": false,
    "nbgrader": {
     "cell_type": "markdown",
     "checksum": "9478f8ff4e868db51610cd2c6265cce8",
     "grade": false,
     "grade_id": "cell-4aa072eec21ca596",
     "locked": true,
     "schema_version": 3,
     "solution": false
    }
   },
   "source": [
    "### All done!\n",
    "\n",
    "Congrats! If you are here, you have finished all problems for week 3, even the extra one! Bad-ass. &#128526;"
   ]
  }
 ],
 "metadata": {
  "anaconda-cloud": {},
  "kernelspec": {
   "display_name": "Python 3 (ipykernel)",
   "language": "python",
   "name": "python3"
  },
  "language_info": {
   "codemirror_mode": {
    "name": "ipython",
    "version": 3
   },
   "file_extension": ".py",
   "mimetype": "text/x-python",
   "name": "python",
   "nbconvert_exporter": "python",
   "pygments_lexer": "ipython3",
   "version": "3.10.6"
  }
 },
 "nbformat": 4,
 "nbformat_minor": 2
}
