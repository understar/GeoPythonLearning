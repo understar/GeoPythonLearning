{
 "cells": [
  {
   "cell_type": "markdown",
   "metadata": {
    "deletable": false,
    "editable": false,
    "nbgrader": {
     "cell_type": "markdown",
     "checksum": "69beba587b23799de7580bab8ed1e53a",
     "grade": false,
     "grade_id": "cell-876e2442239d92c8",
     "locked": true,
     "schema_version": 3,
     "solution": false
    }
   },
   "source": [
    "## Problem 2 - Temperature classifier (3 points)\n",
    "\n",
    "In [Problem 2 of Exercise 3 last week](https://github.com/Geo-Python-2022/Exercise-3/blob/master/Exercise-3-problem-2.ipynb) we practiced how to classify temperatures into four different classes: cold, slippery, comfortable, and warm. Let's continue working with the same idea.\n",
    "\n",
    "Here, you should create a function called `temp_classifier` that accepts a temperature value in Celsius that will be reclassified into integer numbers 0-3 based on following criteria:\n",
    "\n",
    "| Return value | Classification criteria                                                  |\n",
    "| :----------: | :----------------------------------------------------------------------- |\n",
    "| 0            | Temperatures below -2 degrees Celsius                                    |\n",
    "| 1            | Temperatures equal or warmer than -2, but less than +2 degrees Celsius   |\n",
    "| 2            | Temperatures equal or warmer than +2, but less than +15 degrees Celsius  |\n",
    "| 3            | Temperatures equal or warmer than +15 degrees Celsius                    |\n",
    "\n",
    "### Tips for completing this problem\n",
    "\n",
    "- Use **exactly** the same variable names as in the instructions because your answers will be automatically graded, and the tests that grade your answers rely on following the same formatting or variable naming as in the instructions.\n",
    "- **Please do not change the file names**. Do all of your editing in the provided `Exercise-4-problem-2.ipynb` file (this file).\n",
    "- **Please do not copy/paste code cells in this notebook**. We use an automated grading system that will fail if there are copies of code cells.\n",
    "\n",
    "### Scores for this problem\n",
    "\n",
    "**Your score on this problem will be based on following criteria:**\n",
    "\n",
    "- Creating a new function called `temp_classifier` **(0.5 points)**\n",
    "- Defining one parameter called `temp_celsius` in your `temp_classifier` function **(0.5 points)**\n",
    "- Reclassifying input temperatures based on the criteria in the above table and returning the reclassified value as an integer number (i.e., 0, 1, 2, or 3) **(1 point)**\n",
    "- Adding comments in your code and a docstring that explains how to use your `temp_classifier` function (i.e., you should write the purpose of the function, parameters, and returned values) **(1 point)**\n",
    "- Uploading your notebook to your GitHub repository for this week's exercise"
   ]
  },
  {
   "cell_type": "markdown",
   "metadata": {
    "deletable": false,
    "editable": false,
    "nbgrader": {
     "cell_type": "markdown",
     "checksum": "535a6519ff689c5f7e12225c47f42b92",
     "grade": false,
     "grade_id": "cell-8cfb83163beb758c",
     "locked": true,
     "schema_version": 3,
     "solution": false,
     "task": false
    }
   },
   "source": [
    "## Part 1 (2 points)\n",
    "\n",
    "Create a function in the cell below to classify temperatures as directed.\n",
    "\n",
    "- Your function should be called `temp_classifier`\n",
    "- It should have a single parameter called `temp_celsius`\n",
    "- It should properly classify temperatures for a given temperature input value"
   ]
  },
  {
   "cell_type": "code",
   "execution_count": null,
   "metadata": {
    "deletable": false,
    "nbgrader": {
     "cell_type": "code",
     "checksum": "f95bbee7e8340310e6146f8a25b58536",
     "grade": false,
     "grade_id": "problem_2_ag_p1_temp_classifier",
     "locked": false,
     "schema_version": 3,
     "solution": true
    }
   },
   "outputs": [],
   "source": [
    "# YOUR CODE HERE\n",
    "raise NotImplementedError()"
   ]
  },
  {
   "cell_type": "markdown",
   "metadata": {
    "deletable": false,
    "editable": false,
    "nbgrader": {
     "cell_type": "markdown",
     "checksum": "9b350dcf47c0ce0f059b3754dcbfdbe2",
     "grade": false,
     "grade_id": "cell-f4a8e418905fb50e",
     "locked": true,
     "schema_version": 3,
     "solution": false
    }
   },
   "source": [
    "**Use** your newly created function to print the answers to the following questions:"
   ]
  },
  {
   "cell_type": "code",
   "execution_count": null,
   "metadata": {},
   "outputs": [],
   "source": [
    "# 1. What is the class value for 16.5 degrees Celsius?\n",
    "\n",
    "# 2. What is the class value for +2 degrees Celsius?\n"
   ]
  },
  {
   "cell_type": "markdown",
   "metadata": {
    "deletable": false,
    "editable": false,
    "nbgrader": {
     "cell_type": "markdown",
     "checksum": "f3281f2f3ad29f5fa085ef5b5a274753",
     "grade": false,
     "grade_id": "cell-460623686e88033b",
     "locked": true,
     "schema_version": 3,
     "solution": false,
     "task": false
    }
   },
   "source": [
    "### Problem 2 tests\n",
    "\n",
    "Run the code cells below to check your answer. Note that you are not able to modify the test cells. Your solution is on the right track if you don't see any errors when running these code cells."
   ]
  },
  {
   "cell_type": "code",
   "execution_count": null,
   "metadata": {
    "deletable": false,
    "editable": false,
    "nbgrader": {
     "cell_type": "code",
     "checksum": "3bfb0886cf9074749eb6757984a79748",
     "grade": true,
     "grade_id": "problem_2_ag_p1_temp_classifier_test1",
     "locked": true,
     "points": 0.5,
     "schema_version": 3,
     "solution": false
    }
   },
   "outputs": [],
   "source": [
    "import inspect\n",
    "\n",
    "# Check that function exists\n",
    "assert inspect.isfunction(temp_classifier)"
   ]
  },
  {
   "cell_type": "code",
   "execution_count": null,
   "metadata": {
    "deletable": false,
    "editable": false,
    "nbgrader": {
     "cell_type": "code",
     "checksum": "981fa7276bfc4263beec3664acc98856",
     "grade": true,
     "grade_id": "problem_2_ag_p1_temp_classifier_test2",
     "locked": true,
     "points": 0.5,
     "schema_version": 3,
     "solution": false
    }
   },
   "outputs": [],
   "source": [
    "# Check that the function has a single parameter and the pamameter name is correct\n",
    "params = list(inspect.signature(temp_classifier).parameters.keys())\n",
    "assert len(params) == 1\n",
    "assert params[0] == 'temp_celsius'"
   ]
  },
  {
   "cell_type": "markdown",
   "metadata": {
    "deletable": false,
    "editable": false,
    "nbgrader": {
     "cell_type": "markdown",
     "checksum": "a7731774eb65258982fe6c7c37a17289",
     "grade": false,
     "grade_id": "cell-2085103147b58446",
     "locked": true,
     "schema_version": 3,
     "solution": false,
     "task": false
    }
   },
   "source": [
    "Check that the function produces correct answers for selected values:"
   ]
  },
  {
   "cell_type": "code",
   "execution_count": null,
   "metadata": {
    "deletable": false,
    "editable": false,
    "nbgrader": {
     "cell_type": "code",
     "checksum": "10b64e184cfa4d6b896f212371afd029",
     "grade": true,
     "grade_id": "problem_2_ag_p1_temp_classifier_test3",
     "locked": true,
     "points": 0.25,
     "schema_version": 3,
     "solution": false
    }
   },
   "outputs": [],
   "source": [
    "# 1. What is the class value for 16.5 degrees (Celsius)?\n",
    "assert temp_classifier(16.5) == 3, 'Wrong class'\n",
    "print(\"ok :)\")"
   ]
  },
  {
   "cell_type": "code",
   "execution_count": null,
   "metadata": {
    "deletable": false,
    "editable": false,
    "nbgrader": {
     "cell_type": "code",
     "checksum": "3e81d1348ee62426a4ceea466be9c312",
     "grade": true,
     "grade_id": "problem_2_ag_p1_temp_classifier_test4",
     "locked": true,
     "points": 0.25,
     "schema_version": 3,
     "solution": false
    }
   },
   "outputs": [],
   "source": [
    "# 2. What is the class value for +2 degrees (Celsius)?\n",
    "assert temp_classifier(2) == 2, 'Wrong class'\n",
    "print(\"ok :)\")"
   ]
  },
  {
   "cell_type": "code",
   "execution_count": null,
   "metadata": {
    "deletable": false,
    "editable": false,
    "nbgrader": {
     "cell_type": "code",
     "checksum": "062ae3b8f1c51c67c766088689803518",
     "grade": true,
     "grade_id": "problem_2_ag_p1_temp_classifier_test5",
     "locked": true,
     "points": 0.25,
     "schema_version": 3,
     "solution": false
    }
   },
   "outputs": [],
   "source": [
    "# 3. What is the class value for +1 degrees (Celsius)?\n",
    "assert temp_classifier(1) == 1, 'Wrong class'\n",
    "print(\"ok :)\")"
   ]
  },
  {
   "cell_type": "code",
   "execution_count": null,
   "metadata": {
    "deletable": false,
    "editable": false,
    "nbgrader": {
     "cell_type": "code",
     "checksum": "4962e6a3f265b93707e9b44718317ce5",
     "grade": true,
     "grade_id": "problem_2_ag_p1_temp_classifier_test6",
     "locked": true,
     "points": 0.25,
     "schema_version": 3,
     "solution": false
    }
   },
   "outputs": [],
   "source": [
    "# 4. What is the class value for -5 degrees (Celsius)?\n",
    "assert temp_classifier(-5) == 0, 'Wrong class'\n",
    "print(\"ok :)\")"
   ]
  },
  {
   "cell_type": "markdown",
   "metadata": {
    "deletable": false,
    "editable": false,
    "nbgrader": {
     "cell_type": "markdown",
     "checksum": "033ac2c562763dc6146e4ed9091dc403",
     "grade": false,
     "grade_id": "cell-b27291a41da8074d",
     "locked": true,
     "schema_version": 3,
     "solution": false,
     "task": false
    }
   },
   "source": [
    "## Part 2 (1 point)\n",
    "\n",
    "Check your code.\n",
    "\n",
    " - Are all the variable names correct?\n",
    " - Does your code contain enough comments?\n",
    " - Does your function have an informative dosctring?"
   ]
  },
  {
   "cell_type": "markdown",
   "metadata": {
    "deletable": false,
    "nbgrader": {
     "cell_type": "markdown",
     "checksum": "8d7d2415e5c969177bfc24303dc4b0e9",
     "grade": true,
     "grade_id": "problem_2_manual_check",
     "locked": false,
     "points": 1,
     "schema_version": 3,
     "solution": true,
     "task": false
    }
   },
   "source": [
    "YOUR ANSWER HERE"
   ]
  },
  {
   "cell_type": "markdown",
   "metadata": {
    "deletable": false,
    "editable": false,
    "nbgrader": {
     "cell_type": "markdown",
     "checksum": "ce902498612244bb33e804499eee0168",
     "grade": false,
     "grade_id": "cell-31016daaf1c494e1",
     "locked": true,
     "schema_version": 3,
     "solution": false
    }
   },
   "source": [
    "#### Done!\n",
    "\n",
    "That's it! Now you are ready to continue with [Problem 3](Exercise-4-problem-3.ipynb)."
   ]
  }
 ],
 "metadata": {
  "kernelspec": {
   "display_name": "Python 3 (ipykernel)",
   "language": "python",
   "name": "python3"
  },
  "language_info": {
   "codemirror_mode": {
    "name": "ipython",
    "version": 3
   },
   "file_extension": ".py",
   "mimetype": "text/x-python",
   "name": "python",
   "nbconvert_exporter": "python",
   "pygments_lexer": "ipython3",
   "version": "3.10.6"
  }
 },
 "nbformat": 4,
 "nbformat_minor": 2
}
