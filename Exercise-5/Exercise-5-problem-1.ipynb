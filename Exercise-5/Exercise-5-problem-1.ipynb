{
 "cells": [
  {
   "cell_type": "markdown",
   "metadata": {
    "deletable": false,
    "editable": false,
    "nbgrader": {
     "cell_type": "markdown",
     "checksum": "444ceef65aa930b13f500dcd650456f1",
     "grade": false,
     "grade_id": "cell-1e760a9173223eac",
     "locked": true,
     "schema_version": 3,
     "solution": false
    }
   },
   "source": [
    "## Problem 1 - Basic statistics of the data (2 points)\n",
    "\n",
    "In this problem your task is to open and explore a NOAA weather data file using pandas. The data file name is `6153237444115dat.csv` and it is located in the `data` folder in this repository. \n",
    "\n",
    "### Tips for completing this problem\n",
    "\n",
    "- Use **exactly** the same variable names as in the instructions because your answers will be automatically graded, and the tests that grade your answers rely on following the same formatting or variable naming as in the instructions.\n",
    "- **Please do not**:\n",
    "\n",
    "    - **Change the file names**. Do all of your editing in the provided `Exercise-5-problem-1.ipynb` file (this file).\n",
    "    - **Copy/paste cells in this notebook**. We use an automated grading system that will fail if there are copies of code cells.\n",
    "    - **Change the existing cell types**. You can add cells, but changing the cell types for existing cells (from code to markdown, for example) will also cause the automated grader to fail. \n",
    "\n",
    "### Scores for this problem\n",
    "\n",
    "**Your score on this problem will be based on following criteria:**\n",
    "\n",
    "- Importing the pandas module\n",
    "- Reading the data using pandas into a variable called `data`\n",
    "- Calculating a number of values from the data file used in this problem\n",
    "- Including comments that explain what most lines in the code do\n",
    "- Answering a couple questions at the end of the problem\n",
    "- Uploading your notebook to your GitHub repository for this week's exercise"
   ]
  },
  {
   "cell_type": "markdown",
   "metadata": {
    "deletable": false,
    "editable": false,
    "nbgrader": {
     "cell_type": "markdown",
     "checksum": "679ec0de114fb686434ddb20705630de",
     "grade": false,
     "grade_id": "cell-5f1b764c6963516b",
     "locked": true,
     "schema_version": 3,
     "solution": false,
     "task": false
    }
   },
   "source": [
    "### Part 1 (0.5 points)\n",
    "\n",
    "Your first task is to import pandas and read in the data file.\n",
    "\n",
    "- Import the pandas module\n",
    "- Read the data into a variable called `data` using pandas \n",
    "\n",
    "**Hint**: When reading the data, you need to consider a couple of things:\n",
    "\n",
    "- The input file is located in the `data` folder, and you need to include this in the filepath when reading the file to pandas\n",
    "- No-data values are specified with varying number of `*` characters in the input file. You can tell this to pandas by specifying the following parameter in the pandas `read_csv()` function: `na_values=['*', '**', '***', '****', '*****', '******']`     "
   ]
  },
  {
   "cell_type": "code",
   "execution_count": 1,
   "metadata": {
    "deletable": false,
    "nbgrader": {
     "cell_type": "code",
     "checksum": "1bb7fb671d8536a174292f4135568a7a",
     "grade": false,
     "grade_id": "problem_1_ag_p1_read_csv",
     "locked": false,
     "schema_version": 3,
     "solution": true
    }
   },
   "outputs": [],
   "source": [
    "import pandas as pd\n",
    "\n",
    "fp = \"data/6153237444115dat.csv\"\n",
    "data = pd.read_csv(fp, na_values=['*', '**', '***', '****', '*****', '******'])"
   ]
  },
  {
   "cell_type": "markdown",
   "metadata": {
    "deletable": false,
    "editable": false,
    "nbgrader": {
     "cell_type": "markdown",
     "checksum": "414376c4b6e7d3199c155e0cbe17b717",
     "grade": false,
     "grade_id": "cell-9bd0f6a45f7bdba8",
     "locked": true,
     "schema_version": 3,
     "solution": false,
     "task": false
    }
   },
   "source": [
    "Check that the first rows of the DataFrame look ok: "
   ]
  },
  {
   "cell_type": "code",
   "execution_count": 2,
   "metadata": {
    "deletable": false,
    "editable": false,
    "nbgrader": {
     "cell_type": "code",
     "checksum": "09c07ed4bf42c857eb8c00e0035545c2",
     "grade": true,
     "grade_id": "problem_1_ag_p1_read_csv_test",
     "locked": true,
     "points": 0.5,
     "schema_version": 3,
     "solution": false
    }
   },
   "outputs": [
    {
     "data": {
      "text/html": [
       "<div>\n",
       "<style scoped>\n",
       "    .dataframe tbody tr th:only-of-type {\n",
       "        vertical-align: middle;\n",
       "    }\n",
       "\n",
       "    .dataframe tbody tr th {\n",
       "        vertical-align: top;\n",
       "    }\n",
       "\n",
       "    .dataframe thead th {\n",
       "        text-align: right;\n",
       "    }\n",
       "</style>\n",
       "<table border=\"1\" class=\"dataframe\">\n",
       "  <thead>\n",
       "    <tr style=\"text-align: right;\">\n",
       "      <th></th>\n",
       "      <th>USAF</th>\n",
       "      <th>WBAN</th>\n",
       "      <th>YR--MODAHRMN</th>\n",
       "      <th>DIR</th>\n",
       "      <th>SPD</th>\n",
       "      <th>GUS</th>\n",
       "      <th>CLG</th>\n",
       "      <th>SKC</th>\n",
       "      <th>L</th>\n",
       "      <th>M</th>\n",
       "      <th>...</th>\n",
       "      <th>SLP</th>\n",
       "      <th>ALT</th>\n",
       "      <th>STP</th>\n",
       "      <th>MAX</th>\n",
       "      <th>MIN</th>\n",
       "      <th>PCP01</th>\n",
       "      <th>PCP06</th>\n",
       "      <th>PCP24</th>\n",
       "      <th>PCPXX</th>\n",
       "      <th>SD</th>\n",
       "    </tr>\n",
       "  </thead>\n",
       "  <tbody>\n",
       "    <tr>\n",
       "      <th>0</th>\n",
       "      <td>28450</td>\n",
       "      <td>99999</td>\n",
       "      <td>201705010000</td>\n",
       "      <td>174.0</td>\n",
       "      <td>10.0</td>\n",
       "      <td>14.0</td>\n",
       "      <td>NaN</td>\n",
       "      <td>NaN</td>\n",
       "      <td>NaN</td>\n",
       "      <td>NaN</td>\n",
       "      <td>...</td>\n",
       "      <td>1009.2</td>\n",
       "      <td>NaN</td>\n",
       "      <td>984.1</td>\n",
       "      <td>NaN</td>\n",
       "      <td>NaN</td>\n",
       "      <td>NaN</td>\n",
       "      <td>NaN</td>\n",
       "      <td>NaN</td>\n",
       "      <td>NaN</td>\n",
       "      <td>35.0</td>\n",
       "    </tr>\n",
       "    <tr>\n",
       "      <th>1</th>\n",
       "      <td>28450</td>\n",
       "      <td>99999</td>\n",
       "      <td>201705010020</td>\n",
       "      <td>180.0</td>\n",
       "      <td>10.0</td>\n",
       "      <td>NaN</td>\n",
       "      <td>4.0</td>\n",
       "      <td>NaN</td>\n",
       "      <td>NaN</td>\n",
       "      <td>NaN</td>\n",
       "      <td>...</td>\n",
       "      <td>NaN</td>\n",
       "      <td>29.74</td>\n",
       "      <td>NaN</td>\n",
       "      <td>NaN</td>\n",
       "      <td>NaN</td>\n",
       "      <td>NaN</td>\n",
       "      <td>NaN</td>\n",
       "      <td>NaN</td>\n",
       "      <td>NaN</td>\n",
       "      <td>NaN</td>\n",
       "    </tr>\n",
       "    <tr>\n",
       "      <th>2</th>\n",
       "      <td>28450</td>\n",
       "      <td>99999</td>\n",
       "      <td>201705010050</td>\n",
       "      <td>190.0</td>\n",
       "      <td>10.0</td>\n",
       "      <td>NaN</td>\n",
       "      <td>4.0</td>\n",
       "      <td>NaN</td>\n",
       "      <td>NaN</td>\n",
       "      <td>NaN</td>\n",
       "      <td>...</td>\n",
       "      <td>NaN</td>\n",
       "      <td>29.74</td>\n",
       "      <td>NaN</td>\n",
       "      <td>NaN</td>\n",
       "      <td>NaN</td>\n",
       "      <td>NaN</td>\n",
       "      <td>NaN</td>\n",
       "      <td>NaN</td>\n",
       "      <td>NaN</td>\n",
       "      <td>NaN</td>\n",
       "    </tr>\n",
       "    <tr>\n",
       "      <th>3</th>\n",
       "      <td>28450</td>\n",
       "      <td>99999</td>\n",
       "      <td>201705010100</td>\n",
       "      <td>188.0</td>\n",
       "      <td>12.0</td>\n",
       "      <td>16.0</td>\n",
       "      <td>NaN</td>\n",
       "      <td>NaN</td>\n",
       "      <td>NaN</td>\n",
       "      <td>NaN</td>\n",
       "      <td>...</td>\n",
       "      <td>1009.1</td>\n",
       "      <td>NaN</td>\n",
       "      <td>984.0</td>\n",
       "      <td>NaN</td>\n",
       "      <td>NaN</td>\n",
       "      <td>NaN</td>\n",
       "      <td>NaN</td>\n",
       "      <td>NaN</td>\n",
       "      <td>NaN</td>\n",
       "      <td>35.0</td>\n",
       "    </tr>\n",
       "    <tr>\n",
       "      <th>4</th>\n",
       "      <td>28450</td>\n",
       "      <td>99999</td>\n",
       "      <td>201705010120</td>\n",
       "      <td>200.0</td>\n",
       "      <td>13.0</td>\n",
       "      <td>NaN</td>\n",
       "      <td>2.0</td>\n",
       "      <td>OBS</td>\n",
       "      <td>NaN</td>\n",
       "      <td>NaN</td>\n",
       "      <td>...</td>\n",
       "      <td>NaN</td>\n",
       "      <td>29.74</td>\n",
       "      <td>NaN</td>\n",
       "      <td>NaN</td>\n",
       "      <td>NaN</td>\n",
       "      <td>NaN</td>\n",
       "      <td>NaN</td>\n",
       "      <td>NaN</td>\n",
       "      <td>NaN</td>\n",
       "      <td>NaN</td>\n",
       "    </tr>\n",
       "  </tbody>\n",
       "</table>\n",
       "<p>5 rows × 33 columns</p>\n",
       "</div>"
      ],
      "text/plain": [
       "    USAF   WBAN  YR--MODAHRMN    DIR   SPD   GUS  CLG  SKC   L   M  ...  \\\n",
       "0  28450  99999  201705010000  174.0  10.0  14.0  NaN  NaN NaN NaN  ...   \n",
       "1  28450  99999  201705010020  180.0  10.0   NaN  4.0  NaN NaN NaN  ...   \n",
       "2  28450  99999  201705010050  190.0  10.0   NaN  4.0  NaN NaN NaN  ...   \n",
       "3  28450  99999  201705010100  188.0  12.0  16.0  NaN  NaN NaN NaN  ...   \n",
       "4  28450  99999  201705010120  200.0  13.0   NaN  2.0  OBS NaN NaN  ...   \n",
       "\n",
       "      SLP    ALT    STP  MAX  MIN  PCP01  PCP06  PCP24  PCPXX    SD  \n",
       "0  1009.2    NaN  984.1  NaN  NaN    NaN    NaN    NaN    NaN  35.0  \n",
       "1     NaN  29.74    NaN  NaN  NaN    NaN    NaN    NaN    NaN   NaN  \n",
       "2     NaN  29.74    NaN  NaN  NaN    NaN    NaN    NaN    NaN   NaN  \n",
       "3  1009.1    NaN  984.0  NaN  NaN    NaN    NaN    NaN    NaN  35.0  \n",
       "4     NaN  29.74    NaN  NaN  NaN    NaN    NaN    NaN    NaN   NaN  \n",
       "\n",
       "[5 rows x 33 columns]"
      ]
     },
     "execution_count": 2,
     "metadata": {},
     "output_type": "execute_result"
    }
   ],
   "source": [
    "data.head()"
   ]
  },
  {
   "cell_type": "markdown",
   "metadata": {
    "deletable": false,
    "editable": false,
    "nbgrader": {
     "cell_type": "markdown",
     "checksum": "87ae93ba186bd654aff0c6fd790e56dd",
     "grade": false,
     "grade_id": "cell-52993769979e9829",
     "locked": true,
     "schema_version": 3,
     "solution": false,
     "task": false
    }
   },
   "source": [
    "### Part 2 (0.5 points)\n",
    "\n",
    "In the cell below, fill in the variables values to print answers to these questions:\n",
    "\n",
    "- How many rows is there in the data (variable `rows`)?\n",
    "- What are the column names (variable `column_names`)?\n",
    "- What are the datatypes of the columns (variable `column_datatypes`)?"
   ]
  },
  {
   "cell_type": "code",
   "execution_count": 8,
   "metadata": {
    "deletable": false,
    "nbgrader": {
     "cell_type": "code",
     "checksum": "b81d76f8a8bf1cc4cdc32f9684e0160f",
     "grade": false,
     "grade_id": "problem_1_ag_p2_pandas_data",
     "locked": false,
     "schema_version": 3,
     "solution": true,
     "task": false
    }
   },
   "outputs": [],
   "source": [
    "row_count = data.shape[0]\n",
    "column_names = data.columns\n",
    "column_datatypes = data.dtypes"
   ]
  },
  {
   "cell_type": "code",
   "execution_count": 9,
   "metadata": {
    "deletable": false,
    "editable": false,
    "nbgrader": {
     "cell_type": "code",
     "checksum": "573a3930fbed0280acd7dd2110d7d107",
     "grade": true,
     "grade_id": "problem_1_ag_p2_pandas_data_test1",
     "locked": true,
     "points": 0.1,
     "schema_version": 3,
     "solution": false
    }
   },
   "outputs": [
    {
     "name": "stdout",
     "output_type": "stream",
     "text": [
      "There are 11694 rows\n"
     ]
    }
   ],
   "source": [
    "# Print the number of rows in the dataframe:\n",
    "print(f\"There are {row_count} rows\")"
   ]
  },
  {
   "cell_type": "code",
   "execution_count": 10,
   "metadata": {
    "deletable": false,
    "editable": false,
    "nbgrader": {
     "cell_type": "code",
     "checksum": "bf85dcce6e0698e2dbbe107cd94a68b3",
     "grade": true,
     "grade_id": "problem_1_ag_p2_pandas_data_test2",
     "locked": true,
     "points": 0.2,
     "schema_version": 3,
     "solution": false
    }
   },
   "outputs": [
    {
     "name": "stdout",
     "output_type": "stream",
     "text": [
      "The columns are: \n",
      "Index(['USAF', 'WBAN', 'YR--MODAHRMN', 'DIR', 'SPD', 'GUS', 'CLG', 'SKC', 'L',\n",
      "       'M', 'H', 'VSB', 'MW', 'MW.1', 'MW.2', 'MW.3', 'AW', 'AW.1', 'AW.2',\n",
      "       'AW.3', 'W', 'TEMP', 'DEWP', 'SLP', 'ALT', 'STP', 'MAX', 'MIN', 'PCP01',\n",
      "       'PCP06', 'PCP24', 'PCPXX', 'SD'],\n",
      "      dtype='object')\n"
     ]
    }
   ],
   "source": [
    "# Print the column names:\n",
    "print(f\"The columns are: \\n{column_names}\")"
   ]
  },
  {
   "cell_type": "code",
   "execution_count": 11,
   "metadata": {
    "deletable": false,
    "editable": false,
    "nbgrader": {
     "cell_type": "code",
     "checksum": "72607455d2ac012c75770bee054f09f8",
     "grade": true,
     "grade_id": "problem_1_ag_p2_pandas_data_test3",
     "locked": true,
     "points": 0.2,
     "schema_version": 3,
     "solution": false
    }
   },
   "outputs": [
    {
     "name": "stdout",
     "output_type": "stream",
     "text": [
      "The column types are: \n",
      "USAF              int64\n",
      "WBAN              int64\n",
      "YR--MODAHRMN      int64\n",
      "DIR             float64\n",
      "SPD             float64\n",
      "GUS             float64\n",
      "CLG             float64\n",
      "SKC              object\n",
      "L               float64\n",
      "M               float64\n",
      "H               float64\n",
      "VSB             float64\n",
      "MW              float64\n",
      "MW.1            float64\n",
      "MW.2            float64\n",
      "MW.3            float64\n",
      "AW              float64\n",
      "AW.1            float64\n",
      "AW.2            float64\n",
      "AW.3            float64\n",
      "W               float64\n",
      "TEMP            float64\n",
      "DEWP            float64\n",
      "SLP             float64\n",
      "ALT             float64\n",
      "STP             float64\n",
      "MAX             float64\n",
      "MIN             float64\n",
      "PCP01           float64\n",
      "PCP06           float64\n",
      "PCP24           float64\n",
      "PCPXX           float64\n",
      "SD              float64\n",
      "dtype: object\n"
     ]
    }
   ],
   "source": [
    "# Print the column datatypes:\n",
    "print(f\"The column types are: \\n{column_datatypes}\")"
   ]
  },
  {
   "cell_type": "markdown",
   "metadata": {
    "deletable": false,
    "editable": false,
    "nbgrader": {
     "cell_type": "markdown",
     "checksum": "8a63cde3014f140669f0407e96470fdc",
     "grade": false,
     "grade_id": "cell-084bfa64c8d7ad54",
     "locked": true,
     "schema_version": 3,
     "solution": false,
     "task": false
    }
   },
   "source": [
    "### Part 3 (1 point)\n",
    "\n",
    "In the cell below, fill in the variables values to print answers to these questions:\n",
    "\n",
    "- What is the mean Fahrenheit temperature in the data (`temp_mean` variable calculated from the `TEMP` column)?\n",
    "- What is the standard deviation of the maximum temperature (`temp_max_std` variable calculated from the `MAX` column)?\n",
    "- How many unique stations exists in the data (`station_count` variable calcualted from the `USAF` column)?"
   ]
  },
  {
   "cell_type": "code",
   "execution_count": 12,
   "metadata": {
    "deletable": false,
    "nbgrader": {
     "cell_type": "code",
     "checksum": "af2469d960da066f500cb07f3e2e27ea",
     "grade": false,
     "grade_id": "problem_1_ag_p3_basic_statistics",
     "locked": false,
     "schema_version": 3,
     "solution": true
    }
   },
   "outputs": [],
   "source": [
    "# Calculate mean temperature\n",
    "temp_mean = data['TEMP'].mean()\n",
    "\n",
    "# Calculate standard deviaton of the maximum temperature:\n",
    "temp_max_std = data['MAX'].std()\n",
    "\n",
    "#Calculate number of unique stations:\n",
    "station_count = len(data['USAF'].unique())"
   ]
  },
  {
   "cell_type": "code",
   "execution_count": 13,
   "metadata": {
    "deletable": false,
    "editable": false,
    "nbgrader": {
     "cell_type": "code",
     "checksum": "150191344d5b0b5dcd9718247250091c",
     "grade": true,
     "grade_id": "problem_1_ag_p3_basic_statistics_test1",
     "locked": true,
     "points": 0.3,
     "schema_version": 3,
     "solution": false
    }
   },
   "outputs": [
    {
     "name": "stdout",
     "output_type": "stream",
     "text": [
      "The mean temperature in Fahrenheit is 52.2\n"
     ]
    }
   ],
   "source": [
    "# Check mean temperature value\n",
    "print(f\"The mean temperature in Fahrenheit is {round(temp_mean,1)}\")"
   ]
  },
  {
   "cell_type": "code",
   "execution_count": 14,
   "metadata": {
    "deletable": false,
    "editable": false,
    "nbgrader": {
     "cell_type": "code",
     "checksum": "3384f078cc932aa2e22b423268e1a262",
     "grade": true,
     "grade_id": "problem_1_ag_p3_basic_statistics_test2",
     "locked": true,
     "points": 0.3,
     "schema_version": 3,
     "solution": false
    }
   },
   "outputs": [
    {
     "name": "stdout",
     "output_type": "stream",
     "text": [
      "The standard deviation of maximum temperature is 10.3\n"
     ]
    }
   ],
   "source": [
    "# Check standard deviation value\n",
    "print(f\"The standard deviation of maximum temperature is {round(temp_max_std, 1)}\")"
   ]
  },
  {
   "cell_type": "code",
   "execution_count": 15,
   "metadata": {
    "deletable": false,
    "editable": false,
    "nbgrader": {
     "cell_type": "code",
     "checksum": "2ab9de0679771441fa2f4dc599986884",
     "grade": true,
     "grade_id": "problem_1_ag_p3_basic_statistics_test",
     "locked": true,
     "points": 0.4,
     "schema_version": 3,
     "solution": false
    }
   },
   "outputs": [
    {
     "name": "stdout",
     "output_type": "stream",
     "text": [
      "The number of unique stations is 2\n"
     ]
    }
   ],
   "source": [
    "# Check number of stations value\n",
    "print(f\"The number of unique stations is {station_count}\")"
   ]
  },
  {
   "cell_type": "markdown",
   "metadata": {
    "deletable": false,
    "editable": false,
    "nbgrader": {
     "cell_type": "markdown",
     "checksum": "a7f09e7dc94a199836df05a71e7769de",
     "grade": false,
     "grade_id": "cell-f3ebf436af20e19d",
     "locked": true,
     "schema_version": 3,
     "solution": false,
     "task": false
    }
   },
   "source": [
    "### Problem 1 summary\n",
    "\n",
    "- Did you have any problems with Problem 1?\n",
    "\n",
    "Also, make sure to:\n",
    "\n",
    "- Check that your code includes informative comments explaining what your code does\n",
    "- Commit and push your changes to your GitHub repository for Exercise 5\n",
    "\n",
    "Please write your answers and comments below (**activate the cell by double clicking**)."
   ]
  },
  {
   "cell_type": "markdown",
   "metadata": {
    "deletable": false,
    "nbgrader": {
     "cell_type": "markdown",
     "checksum": "6fe20aad593946c95bf5f152d560375b",
     "grade": true,
     "grade_id": "problem_1_mg_p4_questions",
     "locked": false,
     "points": 0,
     "schema_version": 3,
     "solution": true,
     "task": false
    }
   },
   "source": [
    "YOUR ANSWER HERE"
   ]
  },
  {
   "cell_type": "markdown",
   "metadata": {
    "deletable": false,
    "editable": false,
    "nbgrader": {
     "cell_type": "markdown",
     "checksum": "d83d3441649eb0a83657cbf9b30a0825",
     "grade": false,
     "grade_id": "cell-37aec3470db70bf0",
     "locked": true,
     "schema_version": 3,
     "solution": false,
     "task": false
    }
   },
   "source": [
    "### On to Problem 2\n",
    "\n",
    "Now you can continue to [Problem 2: Data manipulation and selection](Exercise-5-problem-2.ipynb)"
   ]
  }
 ],
 "metadata": {
  "anaconda-cloud": {},
  "kernelspec": {
   "display_name": "Python 3 (ipykernel)",
   "language": "python",
   "name": "python3"
  },
  "language_info": {
   "codemirror_mode": {
    "name": "ipython",
    "version": 3
   },
   "file_extension": ".py",
   "mimetype": "text/x-python",
   "name": "python",
   "nbconvert_exporter": "python",
   "pygments_lexer": "ipython3",
   "version": "3.11.4"
  }
 },
 "nbformat": 4,
 "nbformat_minor": 4
}
