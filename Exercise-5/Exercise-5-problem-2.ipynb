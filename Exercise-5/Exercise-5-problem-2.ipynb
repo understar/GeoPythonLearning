{
 "cells": [
  {
   "cell_type": "markdown",
   "metadata": {
    "deletable": false,
    "editable": false,
    "nbgrader": {
     "cell_type": "markdown",
     "checksum": "43121daa843bd4cab040df6ac0b3856d",
     "grade": false,
     "grade_id": "cell-0e5a9bb9ec9e7ac9",
     "locked": true,
     "schema_version": 3,
     "solution": false,
     "task": false
    }
   },
   "source": [
    "## Problem 2 - Data manipulation and selection (4 points)\n",
    "\n",
    "In this problem you will clean the data from our data file by removing no-data values, convert temperature values in Fahrenheit to Celsius, and split the data into separate datasets using the weather station identification code. We will start this problem by cleaning and converting our temperature data. Please perform the tasks below by writing your code into the codeblocks in each section.\n",
    "\n",
    "### Tips for completing this problem\n",
    "\n",
    "- Use **exactly** the same variable names as in the instructions because your answers will be automatically graded, and the tests that grade your answers rely on following the same formatting or variable naming as in the instructions.\n",
    "- **Please do not**:\n",
    "\n",
    "    - **Change the file names**. Do all of your editing in the provided `Exercise-5-problem-2.ipynb` file (this file).\n",
    "    - **Copy/paste cells in this notebook**. We use an automated grading system that will fail if there are copies of code cells.\n",
    "    - **Change the existing cell types**. You can add cells, but changing the cell types for existing cells (from code to markdown, for example) will also cause the automated grader to fail. \n",
    "\n",
    "### Scores for this problem\n",
    "\n",
    "**Your score on this problem will be based on following criteria:**\n",
    "\n",
    "- Creating a new dataframe called `selected` that contains select columns from the data file\n",
    "- Cleaning the new dataframe by removing no-data values\n",
    "- Creating a new column for temperatures converted from Fahrenheit to Celsius\n",
    "- Dividing the data into separate dataframes for the Helsinki Kumpula and Rovaniemi stations\n",
    "- Saving the new dataframes to CSV files\n",
    "- Including comments that explain what most lines in the code do\n",
    "- Answering a couple questions at the end of the problem\n",
    "- Uploading your notebook and data files to your GitHub repository for this week's exercise"
   ]
  },
  {
   "cell_type": "markdown",
   "metadata": {
    "deletable": false,
    "editable": false,
    "nbgrader": {
     "cell_type": "markdown",
     "checksum": "765dc5cd1398d5b7ce9cf42dc2405fcb",
     "grade": false,
     "grade_id": "cell-a49b67e59c4796cb",
     "locked": true,
     "schema_version": 3,
     "solution": false,
     "task": false
    }
   },
   "source": [
    "### Part 1 (0 points)\n",
    "\n",
    "The first step for this problem is to read the data file `6153237444115dat.csv` again into a variable `data` using pandas. Remember to specify the no-data values (you can copy your code from Problem 1)."
   ]
  },
  {
   "cell_type": "code",
   "execution_count": 1,
   "metadata": {
    "deletable": false,
    "nbgrader": {
     "cell_type": "code",
     "checksum": "077376761a2fce1bff0be961d70a03a6",
     "grade": false,
     "grade_id": "problem_2_ag_p1_read_csv",
     "locked": false,
     "schema_version": 3,
     "solution": true
    }
   },
   "outputs": [],
   "source": [
    "import pandas as pd\n",
    "\n",
    "fp = \"data/6153237444115dat.csv\"\n",
    "data = pd.read_csv(fp, na_values=['*', '**', '***', '****', '*****', '******'])"
   ]
  },
  {
   "cell_type": "markdown",
   "metadata": {
    "deletable": false,
    "editable": false,
    "nbgrader": {
     "cell_type": "markdown",
     "checksum": "a52fc694c1559248e144f53dd7b0b5b9",
     "grade": false,
     "grade_id": "cell-1d46fa7bb8225c54",
     "locked": true,
     "schema_version": 3,
     "solution": false,
     "task": false
    }
   },
   "source": [
    "Check that the first rows of the DataFrame look ok: "
   ]
  },
  {
   "cell_type": "code",
   "execution_count": 5,
   "metadata": {},
   "outputs": [
    {
     "data": {
      "text/plain": [
       "USAF                   28450\n",
       "WBAN                   99999\n",
       "YR--MODAHRMN    201705010000\n",
       "DIR                    174.0\n",
       "SPD                     10.0\n",
       "GUS                     14.0\n",
       "CLG                      NaN\n",
       "SKC                      NaN\n",
       "L                        NaN\n",
       "M                        NaN\n",
       "H                        NaN\n",
       "VSB                      2.2\n",
       "MW                       NaN\n",
       "MW.1                     NaN\n",
       "MW.2                     NaN\n",
       "MW.3                     NaN\n",
       "AW                      67.0\n",
       "AW.1                     NaN\n",
       "AW.2                     NaN\n",
       "AW.3                     NaN\n",
       "W                        8.0\n",
       "TEMP                    31.0\n",
       "DEWP                    31.0\n",
       "SLP                   1009.2\n",
       "ALT                      NaN\n",
       "STP                    984.1\n",
       "MAX                      NaN\n",
       "MIN                      NaN\n",
       "PCP01                    NaN\n",
       "PCP06                    NaN\n",
       "PCP24                    NaN\n",
       "PCPXX                    NaN\n",
       "SD                      35.0\n",
       "Name: 0, dtype: object"
      ]
     },
     "execution_count": 5,
     "metadata": {},
     "output_type": "execute_result"
    }
   ],
   "source": [
    "data.loc[0] # data.head(1)\n",
    "# data.head(1)"
   ]
  },
  {
   "cell_type": "markdown",
   "metadata": {
    "deletable": false,
    "editable": false,
    "nbgrader": {
     "cell_type": "markdown",
     "checksum": "2ef690a87ff17a6d8eecf293b4a26a4b",
     "grade": false,
     "grade_id": "cell-b95a02f5f889a56a",
     "locked": true,
     "schema_version": 3,
     "solution": false,
     "task": false
    }
   },
   "source": [
    "Check the number of rows in the DataFrame:"
   ]
  },
  {
   "cell_type": "code",
   "execution_count": 13,
   "metadata": {},
   "outputs": [
    {
     "data": {
      "text/plain": [
       "11694"
      ]
     },
     "execution_count": 13,
     "metadata": {},
     "output_type": "execute_result"
    }
   ],
   "source": [
    "data.shape[0]\n",
    "# data.columns"
   ]
  },
  {
   "cell_type": "markdown",
   "metadata": {
    "deletable": false,
    "editable": false,
    "nbgrader": {
     "cell_type": "markdown",
     "checksum": "9b584fbcceb8661fca02f5517babcbe3",
     "grade": false,
     "grade_id": "cell-9880f219a5fc3f36",
     "locked": true,
     "schema_version": 3,
     "solution": false,
     "task": false
    }
   },
   "source": [
    "### Part 2 (1 point)\n",
    "\n",
    "Next, your task is to subset the data and remove rows with missing temperature values.\n",
    "\n",
    "- Select the columns `USAF`, `YR--MODAHRMN`, `TEMP`, `MAX`, and `MIN` from the `data` dataframe and assign them to the variable `selected`\n",
    "- Remove all rows from `selected` that have NoData in the column `TEMP` using the `dropna()` function"
   ]
  },
  {
   "cell_type": "code",
   "execution_count": 10,
   "metadata": {
    "deletable": false,
    "nbgrader": {
     "cell_type": "code",
     "checksum": "df0349c15e29b97f6dc16a454d7baab8",
     "grade": false,
     "grade_id": "problem_2_ag_p2_dataframe_subset",
     "locked": false,
     "schema_version": 3,
     "solution": true
    }
   },
   "outputs": [],
   "source": [
    "selected = data[[\"USAF\", \"YR--MODAHRMN\", \"TEMP\", \"MAX\", \"MIN\"]]\n",
    "selected = selected.dropna(subset=['TEMP']) # inplace = True"
   ]
  },
  {
   "cell_type": "markdown",
   "metadata": {
    "deletable": false,
    "editable": false,
    "nbgrader": {
     "cell_type": "markdown",
     "checksum": "6bb3c4b113bf2726bea454d00823914c",
     "grade": false,
     "grade_id": "cell-ac41cccbd18488db",
     "locked": true,
     "schema_version": 3,
     "solution": false,
     "task": false
    }
   },
   "source": [
    "Check that you selected the correct column names:"
   ]
  },
  {
   "cell_type": "code",
   "execution_count": 11,
   "metadata": {
    "deletable": false,
    "editable": false,
    "nbgrader": {
     "cell_type": "code",
     "checksum": "1c2a497ced94c32984fcda7f4f959b97",
     "grade": true,
     "grade_id": "problem_2_ag_p2_dataframe_subset_test1",
     "locked": true,
     "points": 0.5,
     "schema_version": 3,
     "solution": false
    }
   },
   "outputs": [
    {
     "data": {
      "text/html": [
       "<div>\n",
       "<style scoped>\n",
       "    .dataframe tbody tr th:only-of-type {\n",
       "        vertical-align: middle;\n",
       "    }\n",
       "\n",
       "    .dataframe tbody tr th {\n",
       "        vertical-align: top;\n",
       "    }\n",
       "\n",
       "    .dataframe thead th {\n",
       "        text-align: right;\n",
       "    }\n",
       "</style>\n",
       "<table border=\"1\" class=\"dataframe\">\n",
       "  <thead>\n",
       "    <tr style=\"text-align: right;\">\n",
       "      <th></th>\n",
       "      <th>USAF</th>\n",
       "      <th>YR--MODAHRMN</th>\n",
       "      <th>TEMP</th>\n",
       "      <th>MAX</th>\n",
       "      <th>MIN</th>\n",
       "    </tr>\n",
       "  </thead>\n",
       "  <tbody>\n",
       "    <tr>\n",
       "      <th>0</th>\n",
       "      <td>28450</td>\n",
       "      <td>201705010000</td>\n",
       "      <td>31.0</td>\n",
       "      <td>NaN</td>\n",
       "      <td>NaN</td>\n",
       "    </tr>\n",
       "    <tr>\n",
       "      <th>1</th>\n",
       "      <td>28450</td>\n",
       "      <td>201705010020</td>\n",
       "      <td>30.0</td>\n",
       "      <td>NaN</td>\n",
       "      <td>NaN</td>\n",
       "    </tr>\n",
       "    <tr>\n",
       "      <th>2</th>\n",
       "      <td>28450</td>\n",
       "      <td>201705010050</td>\n",
       "      <td>30.0</td>\n",
       "      <td>NaN</td>\n",
       "      <td>NaN</td>\n",
       "    </tr>\n",
       "    <tr>\n",
       "      <th>3</th>\n",
       "      <td>28450</td>\n",
       "      <td>201705010100</td>\n",
       "      <td>31.0</td>\n",
       "      <td>NaN</td>\n",
       "      <td>NaN</td>\n",
       "    </tr>\n",
       "    <tr>\n",
       "      <th>4</th>\n",
       "      <td>28450</td>\n",
       "      <td>201705010120</td>\n",
       "      <td>30.0</td>\n",
       "      <td>NaN</td>\n",
       "      <td>NaN</td>\n",
       "    </tr>\n",
       "  </tbody>\n",
       "</table>\n",
       "</div>"
      ],
      "text/plain": [
       "    USAF  YR--MODAHRMN  TEMP  MAX  MIN\n",
       "0  28450  201705010000  31.0  NaN  NaN\n",
       "1  28450  201705010020  30.0  NaN  NaN\n",
       "2  28450  201705010050  30.0  NaN  NaN\n",
       "3  28450  201705010100  31.0  NaN  NaN\n",
       "4  28450  201705010120  30.0  NaN  NaN"
      ]
     },
     "execution_count": 11,
     "metadata": {},
     "output_type": "execute_result"
    }
   ],
   "source": [
    "selected.head()"
   ]
  },
  {
   "cell_type": "markdown",
   "metadata": {
    "deletable": false,
    "editable": false,
    "nbgrader": {
     "cell_type": "markdown",
     "checksum": "187bc4df32010378e35cf51a6c3017d8",
     "grade": false,
     "grade_id": "cell-7d0260b3b7512daf",
     "locked": true,
     "schema_version": 3,
     "solution": false,
     "task": false
    }
   },
   "source": [
    "Check how many rows you have after removing the no-data values:"
   ]
  },
  {
   "cell_type": "code",
   "execution_count": 12,
   "metadata": {
    "deletable": false,
    "editable": false,
    "nbgrader": {
     "cell_type": "code",
     "checksum": "2ee08ead760618beddcab94c96a56188",
     "grade": true,
     "grade_id": "problem_2_ag_p2_dataframe_subset_test2",
     "locked": true,
     "points": 0.5,
     "schema_version": 3,
     "solution": false
    }
   },
   "outputs": [
    {
     "data": {
      "text/plain": [
       "11691"
      ]
     },
     "execution_count": 12,
     "metadata": {},
     "output_type": "execute_result"
    }
   ],
   "source": [
    "len(selected)"
   ]
  },
  {
   "cell_type": "markdown",
   "metadata": {
    "deletable": false,
    "editable": false,
    "nbgrader": {
     "cell_type": "markdown",
     "checksum": "9648ccd34045c8d29a5128ac62515000",
     "grade": false,
     "grade_id": "cell-afd940c0f8c0e2c7",
     "locked": true,
     "schema_version": 3,
     "solution": false,
     "task": false
    }
   },
   "source": [
    "### Part 3 (1 point)\n",
    "\n",
    "Next, you can convert the temperature values in Fahrenheit to Celsius.\n",
    "\n",
    "- Create a new column in `selected` called `Celsius`\n",
    "- Convert the Fahrenheit temperatures from `TEMP` using the conversion formula below and store the results in the new `Celsius` column.\n",
    "\n",
    "$$\n",
    "\\Large\n",
    "\\begin{equation}\n",
    "  T_{\\mathrm{Celsius}} = (T_{\\mathrm{Fahrenheit}} - 32)~/~1.8\n",
    "\\end{equation}\n",
    "$$\n",
    "\n",
    "- Round the values in the `Celsius` column to have 0 decimals (**do not** create a new column, update the current one)\n",
    "- Convert the `Celsius` values into integers (**do not** create a new column, update the current one)"
   ]
  },
  {
   "cell_type": "code",
   "execution_count": 17,
   "metadata": {
    "deletable": false,
    "nbgrader": {
     "cell_type": "code",
     "checksum": "3b95208426bde59f422229e3e213ae2c",
     "grade": false,
     "grade_id": "problem_2_ag_p3_temperature_calculation",
     "locked": false,
     "schema_version": 3,
     "solution": true
    }
   },
   "outputs": [],
   "source": [
    "selected['Celsius'] = 0.0\n",
    "selected['Celsius'] = (selected['TEMP'] - 32)/1.8\n",
    "selected['Celsius'] = selected['Celsius'].apply(lambda x: round(x, 0))\n",
    "selected['Celsius'] = selected['Celsius'].astype(dtype=\"int\")"
   ]
  },
  {
   "cell_type": "code",
   "execution_count": 18,
   "metadata": {
    "deletable": false,
    "editable": false,
    "nbgrader": {
     "cell_type": "code",
     "checksum": "7db43e546f42eeca940a62e39f7e07fa",
     "grade": true,
     "grade_id": "problem_2_ag_p3_temperature_calculation_test1",
     "locked": true,
     "points": 0.5,
     "schema_version": 3,
     "solution": false
    }
   },
   "outputs": [
    {
     "data": {
      "text/html": [
       "<div>\n",
       "<style scoped>\n",
       "    .dataframe tbody tr th:only-of-type {\n",
       "        vertical-align: middle;\n",
       "    }\n",
       "\n",
       "    .dataframe tbody tr th {\n",
       "        vertical-align: top;\n",
       "    }\n",
       "\n",
       "    .dataframe thead th {\n",
       "        text-align: right;\n",
       "    }\n",
       "</style>\n",
       "<table border=\"1\" class=\"dataframe\">\n",
       "  <thead>\n",
       "    <tr style=\"text-align: right;\">\n",
       "      <th></th>\n",
       "      <th>USAF</th>\n",
       "      <th>YR--MODAHRMN</th>\n",
       "      <th>TEMP</th>\n",
       "      <th>MAX</th>\n",
       "      <th>MIN</th>\n",
       "      <th>Celsius</th>\n",
       "    </tr>\n",
       "  </thead>\n",
       "  <tbody>\n",
       "    <tr>\n",
       "      <th>0</th>\n",
       "      <td>28450</td>\n",
       "      <td>201705010000</td>\n",
       "      <td>31.0</td>\n",
       "      <td>NaN</td>\n",
       "      <td>NaN</td>\n",
       "      <td>-1</td>\n",
       "    </tr>\n",
       "    <tr>\n",
       "      <th>1</th>\n",
       "      <td>28450</td>\n",
       "      <td>201705010020</td>\n",
       "      <td>30.0</td>\n",
       "      <td>NaN</td>\n",
       "      <td>NaN</td>\n",
       "      <td>-1</td>\n",
       "    </tr>\n",
       "    <tr>\n",
       "      <th>2</th>\n",
       "      <td>28450</td>\n",
       "      <td>201705010050</td>\n",
       "      <td>30.0</td>\n",
       "      <td>NaN</td>\n",
       "      <td>NaN</td>\n",
       "      <td>-1</td>\n",
       "    </tr>\n",
       "    <tr>\n",
       "      <th>3</th>\n",
       "      <td>28450</td>\n",
       "      <td>201705010100</td>\n",
       "      <td>31.0</td>\n",
       "      <td>NaN</td>\n",
       "      <td>NaN</td>\n",
       "      <td>-1</td>\n",
       "    </tr>\n",
       "    <tr>\n",
       "      <th>4</th>\n",
       "      <td>28450</td>\n",
       "      <td>201705010120</td>\n",
       "      <td>30.0</td>\n",
       "      <td>NaN</td>\n",
       "      <td>NaN</td>\n",
       "      <td>-1</td>\n",
       "    </tr>\n",
       "  </tbody>\n",
       "</table>\n",
       "</div>"
      ],
      "text/plain": [
       "    USAF  YR--MODAHRMN  TEMP  MAX  MIN  Celsius\n",
       "0  28450  201705010000  31.0  NaN  NaN       -1\n",
       "1  28450  201705010020  30.0  NaN  NaN       -1\n",
       "2  28450  201705010050  30.0  NaN  NaN       -1\n",
       "3  28450  201705010100  31.0  NaN  NaN       -1\n",
       "4  28450  201705010120  30.0  NaN  NaN       -1"
      ]
     },
     "execution_count": 18,
     "metadata": {},
     "output_type": "execute_result"
    }
   ],
   "source": [
    "# Check your dataframe\n",
    "selected.head()"
   ]
  },
  {
   "cell_type": "code",
   "execution_count": 19,
   "metadata": {
    "deletable": false,
    "editable": false,
    "nbgrader": {
     "cell_type": "code",
     "checksum": "b6c99a78d2dd5861897c801af1835c18",
     "grade": true,
     "grade_id": "problem_2_ag_p3_temperature_calculation_test2",
     "locked": true,
     "points": 0.5,
     "schema_version": 3,
     "solution": false
    }
   },
   "outputs": [
    {
     "name": "stdout",
     "output_type": "stream",
     "text": [
      "USAF              int64\n",
      "YR--MODAHRMN      int64\n",
      "TEMP            float64\n",
      "MAX             float64\n",
      "MIN             float64\n",
      "Celsius           int64\n",
      "dtype: object\n"
     ]
    }
   ],
   "source": [
    "# Check data types\n",
    "print(selected.dtypes)"
   ]
  },
  {
   "cell_type": "markdown",
   "metadata": {
    "collapsed": true,
    "deletable": false,
    "editable": false,
    "nbgrader": {
     "cell_type": "markdown",
     "checksum": "1c6fa9fa9fcf22956903010a613d7260",
     "grade": false,
     "grade_id": "cell-068cfca2d756fb80",
     "locked": true,
     "schema_version": 3,
     "solution": false,
     "task": false
    }
   },
   "source": [
    "### Part 4 (1 point)\n",
    "\n",
    "Your next task is to divide `selected` into two separate dataframes. Please use the given variable names and write your answer to the codeblock below.\n",
    "\n",
    "- Select all rows from the `selected` DataFrame with the `USAF` code `29980` into a variable called `kumpula`\n",
    "- Select all rows from the `selected` DataFrame with the `USAF` code `28450` into a variable called `rovaniemi`"
   ]
  },
  {
   "cell_type": "code",
   "execution_count": 20,
   "metadata": {
    "deletable": false,
    "nbgrader": {
     "cell_type": "code",
     "checksum": "f08df66c0eeeff8a6ab17771b32cb244",
     "grade": false,
     "grade_id": "problem_2_ag_p4_subsets",
     "locked": false,
     "schema_version": 3,
     "solution": true
    }
   },
   "outputs": [],
   "source": [
    "kumpula = selected.loc[selected['USAF']==29980] # selected[bool expression] is ok\n",
    "rovaniemi = selected.loc[selected['USAF']==28450]"
   ]
  },
  {
   "cell_type": "code",
   "execution_count": 21,
   "metadata": {
    "deletable": false,
    "editable": false,
    "nbgrader": {
     "cell_type": "code",
     "checksum": "9b4d88355b9c048b34ad437ef1343859",
     "grade": true,
     "grade_id": "problem_2_ag_p4_subsets_test1",
     "locked": true,
     "points": 0.5,
     "schema_version": 3,
     "solution": false
    }
   },
   "outputs": [
    {
     "name": "stdout",
     "output_type": "stream",
     "text": [
      "Kumpula: \n",
      "       USAF  YR--MODAHRMN  TEMP  MAX  MIN  Celsius\n",
      "8770  29980  201705010000  37.0  NaN  NaN        3\n",
      "8771  29980  201705010100  37.0  NaN  NaN        3\n",
      "8772  29980  201705010200  37.0  NaN  NaN        3\n",
      "8773  29980  201705010300  37.0  NaN  NaN        3\n",
      "8774  29980  201705010400  39.0  NaN  NaN        4\n",
      "\n"
     ]
    }
   ],
   "source": [
    "# Check the dataframe\n",
    "print(f\"Kumpula: \\n{kumpula.head()}\\n\")"
   ]
  },
  {
   "cell_type": "code",
   "execution_count": 22,
   "metadata": {
    "deletable": false,
    "editable": false,
    "nbgrader": {
     "cell_type": "code",
     "checksum": "5d5f879edc4414a3cbbb6bb9fba00fb9",
     "grade": true,
     "grade_id": "problem_2_ag_p4_subsets_test2",
     "locked": true,
     "points": 0.5,
     "schema_version": 3,
     "solution": false
    }
   },
   "outputs": [
    {
     "name": "stdout",
     "output_type": "stream",
     "text": [
      "Rovaniemi: \n",
      "    USAF  YR--MODAHRMN  TEMP  MAX  MIN  Celsius\n",
      "0  28450  201705010000  31.0  NaN  NaN       -1\n",
      "1  28450  201705010020  30.0  NaN  NaN       -1\n",
      "2  28450  201705010050  30.0  NaN  NaN       -1\n",
      "3  28450  201705010100  31.0  NaN  NaN       -1\n",
      "4  28450  201705010120  30.0  NaN  NaN       -1\n",
      "\n"
     ]
    }
   ],
   "source": [
    "# Check the dataframe\n",
    "print(f\"Rovaniemi: \\n{rovaniemi.head()}\\n\")"
   ]
  },
  {
   "cell_type": "markdown",
   "metadata": {
    "deletable": false,
    "editable": false,
    "nbgrader": {
     "cell_type": "markdown",
     "checksum": "a0f2a1da690aa421301c1f624a0f92c6",
     "grade": false,
     "grade_id": "cell-e7473ef24ff78a17",
     "locked": true,
     "schema_version": 3,
     "solution": false,
     "task": false
    }
   },
   "source": [
    "### Part 5 (1 point)\n",
    "\n",
    "Now you can save your selections to csv files.\n",
    "\n",
    "- Save the `kumpula` DataFrame into the file `Kumpula_temps_May_Aug_2017.csv` (CSV format) \n",
    "    - Separate the columns with commas (`,`)\n",
    "    - Use only 2 decimals for the floating point numbers\n",
    "- Save the `rovaniemi` DataFrame into the file `Rovaniemi_temps_May_Aug_2017.csv` (CSV format) \n",
    "    - Separate the columns with commas (`,`)\n",
    "    - Use only 2 decimals for the floating point numbers\n",
    "- Remember to commit both data files to your Exercise 5 repository"
   ]
  },
  {
   "cell_type": "code",
   "execution_count": 25,
   "metadata": {
    "deletable": false,
    "nbgrader": {
     "cell_type": "code",
     "checksum": "6ccdbd0010d5b32f3b5b8f9095f33099",
     "grade": true,
     "grade_id": "problem_2_mg_p5_to_csv",
     "locked": false,
     "points": 0,
     "schema_version": 3,
     "solution": true,
     "task": false
    }
   },
   "outputs": [],
   "source": [
    "kumpula.to_csv(path_or_buf=\"data/Kumpula_temps_May_Aug_2017.csv\", sep=\",\", float_format=\"%.2f\")\n",
    "rovaniemi.to_csv(path_or_buf=\"data/Rovaniemi_temps_May_Aug_2017.csv\", sep=\",\", float_format=\"%.2f\")"
   ]
  },
  {
   "cell_type": "code",
   "execution_count": null,
   "metadata": {
    "deletable": false,
    "editable": false,
    "nbgrader": {
     "cell_type": "code",
     "checksum": "ebf2afdcc573b039bbc9df5981779962",
     "grade": true,
     "grade_id": "problem_2_ag_p5_to_csv_test",
     "locked": true,
     "points": 1,
     "schema_version": 3,
     "solution": false
    }
   },
   "outputs": [],
   "source": [
    "#Read-only cell for hidden tests :)"
   ]
  },
  {
   "cell_type": "markdown",
   "metadata": {
    "deletable": false,
    "editable": false,
    "nbgrader": {
     "cell_type": "markdown",
     "checksum": "2666861c749e238b3d0d207bb93e0329",
     "grade": false,
     "grade_id": "cell-3d8b5609d0cea2a9",
     "locked": true,
     "schema_version": 3,
     "solution": false
    }
   },
   "source": [
    "### Problem 2 summary\n",
    "\n",
    "- Was anything unclear to you in Problem 2?\n",
    "- Did you encounter any problems with decimal formatting?\n",
    "\n",
    "Also, make sure you:\n",
    "\n",
    "- Check that your code includes informative comments explaining what your code does\n",
    "- Commit and push your changes to your GitHub repository for Exercise 5 (including your 2 new data files)\n",
    "\n",
    "Please write your answers and comments below (**activate the cell by double clicking**)."
   ]
  },
  {
   "cell_type": "markdown",
   "metadata": {
    "deletable": false,
    "nbgrader": {
     "cell_type": "markdown",
     "checksum": "dcd4c45cfbeb46cb7947778d1cd06f44",
     "grade": true,
     "grade_id": "problem_2_mg_p6_problem_2_questions",
     "locked": false,
     "points": 0,
     "schema_version": 3,
     "solution": true,
     "task": false
    }
   },
   "source": [
    "YOUR ANSWER HERE"
   ]
  },
  {
   "cell_type": "markdown",
   "metadata": {
    "collapsed": true,
    "deletable": false,
    "editable": false,
    "nbgrader": {
     "cell_type": "markdown",
     "checksum": "96a69edaaaab214acf38f25aaec0336b",
     "grade": false,
     "grade_id": "cell-2aac3add6dc14b23",
     "locked": true,
     "schema_version": 3,
     "solution": false,
     "task": false
    }
   },
   "source": [
    "### On to Problem 3\n",
    "\n",
    "Now you can continue to [Problem 3: Data analysis](Exercise-5-problem-3.ipynb)"
   ]
  }
 ],
 "metadata": {
  "anaconda-cloud": {},
  "kernelspec": {
   "display_name": "Python 3 (ipykernel)",
   "language": "python",
   "name": "python3"
  },
  "language_info": {
   "codemirror_mode": {
    "name": "ipython",
    "version": 3
   },
   "file_extension": ".py",
   "mimetype": "text/x-python",
   "name": "python",
   "nbconvert_exporter": "python",
   "pygments_lexer": "ipython3",
   "version": "3.11.4"
  }
 },
 "nbformat": 4,
 "nbformat_minor": 2
}
