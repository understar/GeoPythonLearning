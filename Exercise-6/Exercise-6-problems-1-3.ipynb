{
 "cells": [
  {
   "cell_type": "markdown",
   "metadata": {
    "deletable": false,
    "editable": false,
    "nbgrader": {
     "cell_type": "markdown",
     "checksum": "cd38ffc4a1e649ef289290fcf06e8dea",
     "grade": false,
     "grade_id": "cell-f2d00c67ecd9e7dc",
     "locked": true,
     "schema_version": 3,
     "solution": false
    }
   },
   "source": [
    "# Exercise 6: Weather anomalies (10 points)\n",
    "\n",
    "The aim of this exercise is to analyze historical weather data. In Problem 1 you read in a tricky data file and explore it's contents. In problem 2, you will convert and aggregate the data from daily temperatures in Fahrenheit, to monthly average temperatures in Celsius. In Problem 3, you will finally analyze weather anomalies by comparing monthly average temperatures to a long-term average.\n",
    "\n",
    "### Tips for completing this exercise\n",
    "\n",
    "- Use **exactly** the same variable names as in the instructions because your answers will be automatically graded, and the tests that grade your answers rely on following the same formatting or variable naming as in the instructions.\n",
    "- **Please do not**:\n",
    "\n",
    "    - **Change the file names**. Do all of your editing in the provided `Exercise-6-problems-1-3.ipynb` file (this file).\n",
    "    - **Copy/paste cells in this notebook**. We use an automated grading system that will fail if there are copies of code cells.\n",
    "    - **Change the existing cell types**. You can add cells, but changing the cell types for existing cells (from code to markdown, for example) will also cause the automated grader to fail. \n",
    "\n",
    "## Problem 1 - Reading in a tricky data file (2 points)\n",
    "\n",
    "You first task for this exercise is to read in the data file [data/1091402.txt](data/1091402.txt) to a variable called `data`. Pay attention to the input data structure and no data values.\n",
    "\n",
    "### Scores for this problem\n",
    "\n",
    "**Your score on this problem will be based on following criteria:**\n",
    "\n",
    "- Reading the data into a variable called `data` using pandas\n",
    "    - Skipping the second row of the datafile that contains `----------` characters that don't belong to the data\n",
    "    - Convert the no-data values (`-9999`) into `NaN` \n",
    "- Calculating basic statistics from the data\n",
    "- Including comments that explain what most lines in the code do"
   ]
  },
  {
   "cell_type": "markdown",
   "metadata": {
    "deletable": false,
    "editable": false,
    "nbgrader": {
     "cell_type": "markdown",
     "checksum": "3d3d5961ecc23756da67c59b0053a8e9",
     "grade": false,
     "grade_id": "cell-52cc9f4650eada57",
     "locked": true,
     "schema_version": 3,
     "solution": false
    }
   },
   "source": [
    "### Part 1 (1 point)\n",
    "\n",
    "You should start by loading the data file.\n",
    "\n",
    "- Read the data file into variable the variable `data`\n",
    "    - Skip the second row\n",
    "    - Convert the no-data values (`-9999`) into `NaN`"
   ]
  },
  {
   "cell_type": "code",
   "execution_count": null,
   "metadata": {
    "deletable": false,
    "nbgrader": {
     "cell_type": "code",
     "checksum": "81d2861b4a08146fdb3993c78a858168",
     "grade": false,
     "grade_id": "problem_1_ag_p1_read_file",
     "locked": false,
     "schema_version": 3,
     "solution": true
    }
   },
   "outputs": [],
   "source": [
    "data = None\n",
    "\n",
    "# YOUR CODE HERE\n",
    "raise NotImplementedError()"
   ]
  },
  {
   "cell_type": "code",
   "execution_count": null,
   "metadata": {
    "deletable": false,
    "editable": false,
    "nbgrader": {
     "cell_type": "code",
     "checksum": "4f2d002e5558bd4102cb11bd7a92436a",
     "grade": true,
     "grade_id": "problem_1_ag_p1_read_file_tests1",
     "locked": true,
     "points": 0.5,
     "schema_version": 3,
     "solution": false
    }
   },
   "outputs": [],
   "source": [
    "# Check that the dataframe looks ok:\n",
    "data.head()"
   ]
  },
  {
   "cell_type": "code",
   "execution_count": null,
   "metadata": {
    "deletable": false,
    "editable": false,
    "nbgrader": {
     "cell_type": "code",
     "checksum": "4085783ee6c0b8ce20df6135dbd3918a",
     "grade": true,
     "grade_id": "problem_1_ag_p1_read_file_tests2",
     "locked": true,
     "points": 0.5,
     "schema_version": 3,
     "solution": false
    }
   },
   "outputs": [],
   "source": [
    "# Check the last rows of the data (there should be some NaN values)\n",
    "data.tail()"
   ]
  },
  {
   "cell_type": "markdown",
   "metadata": {
    "deletable": false,
    "editable": false,
    "nbgrader": {
     "cell_type": "markdown",
     "checksum": "22383202dca202e2ea6a9c2df0984a96",
     "grade": false,
     "grade_id": "cell-7f848d5f8acf3a0f",
     "locked": true,
     "schema_version": 3,
     "solution": false
    }
   },
   "source": [
    "### Part 2 (1 point)\n",
    "\n",
    "In this section, you will calculate some basic statistics of the input data.\n",
    "\n",
    "- Calculate how many no-data (NaN) values there are in the `TAVG` column\n",
    "    - Assign your answer to a variable called `tavg_nodata_count`"
   ]
  },
  {
   "cell_type": "code",
   "execution_count": null,
   "metadata": {
    "deletable": false,
    "nbgrader": {
     "cell_type": "code",
     "checksum": "5dc920edd67206c7cd72e1e908aa0ecb",
     "grade": false,
     "grade_id": "problem_1_ag_p2_tavg_nodata_count",
     "locked": false,
     "schema_version": 3,
     "solution": true
    }
   },
   "outputs": [],
   "source": [
    "tavg_nodata_count = None\n",
    "\n",
    "# YOUR CODE HERE\n",
    "raise NotImplementedError()"
   ]
  },
  {
   "cell_type": "code",
   "execution_count": null,
   "metadata": {
    "deletable": false,
    "editable": false,
    "nbgrader": {
     "cell_type": "code",
     "checksum": "3bf7578df074c2a60538c0e1ecb9952a",
     "grade": true,
     "grade_id": "problem_1_ag_p2_tavg_nodata_count_test1",
     "locked": true,
     "points": 0.2,
     "schema_version": 3,
     "solution": false
    }
   },
   "outputs": [],
   "source": [
    "# Print out the solution:\n",
    "print(f'Number of no-data values in column \"TAVG\": {tavg_nodata_count}')"
   ]
  },
  {
   "cell_type": "markdown",
   "metadata": {
    "deletable": false,
    "editable": false,
    "nbgrader": {
     "cell_type": "markdown",
     "checksum": "55529fa822f09b326b39216eedf07783",
     "grade": false,
     "grade_id": "cell-600c96096b421522",
     "locked": true,
     "schema_version": 3,
     "solution": false
    }
   },
   "source": [
    "- Calculate how many no-data (NaN) values there are for the `TMIN` column\n",
    "    - Assign your answer into a variable called `tmin_nodata_count`"
   ]
  },
  {
   "cell_type": "code",
   "execution_count": null,
   "metadata": {
    "deletable": false,
    "nbgrader": {
     "cell_type": "code",
     "checksum": "05106868364a3bae579a286fb230149c",
     "grade": false,
     "grade_id": "problem_1_ag_p2_tmin_nodata_count",
     "locked": false,
     "schema_version": 3,
     "solution": true
    }
   },
   "outputs": [],
   "source": [
    "tmin_nodata_count = None\n",
    "\n",
    "# YOUR CODE HERE\n",
    "raise NotImplementedError()"
   ]
  },
  {
   "cell_type": "code",
   "execution_count": null,
   "metadata": {
    "deletable": false,
    "editable": false,
    "nbgrader": {
     "cell_type": "code",
     "checksum": "30c08818ec1b25c5607b75c100300ad2",
     "grade": true,
     "grade_id": "problem_1_tmin_nodata_count_test1",
     "locked": true,
     "points": 0.2,
     "schema_version": 3,
     "solution": false
    }
   },
   "outputs": [],
   "source": [
    "# Print out the solution:\n",
    "print(f'Number of no-data values in column \"TMIN\": {tmin_nodata_count}')"
   ]
  },
  {
   "cell_type": "markdown",
   "metadata": {
    "deletable": false,
    "editable": false,
    "nbgrader": {
     "cell_type": "markdown",
     "checksum": "908ddb381122ee0dcfaef62e3d3b8173",
     "grade": false,
     "grade_id": "cell-25998b4f0d14e8f0",
     "locked": true,
     "schema_version": 3,
     "solution": false
    }
   },
   "source": [
    "- Calculate the total number of days covered by this data file\n",
    "    - Assign your answer into a variable called `day_count`"
   ]
  },
  {
   "cell_type": "code",
   "execution_count": null,
   "metadata": {
    "deletable": false,
    "nbgrader": {
     "cell_type": "code",
     "checksum": "e189e68edd84e8970954ca097e5fe104",
     "grade": false,
     "grade_id": "problem_1_ag_p2_day_count",
     "locked": false,
     "schema_version": 3,
     "solution": true
    }
   },
   "outputs": [],
   "source": [
    "day_count = None\n",
    "\n",
    "# YOUR CODE HERE\n",
    "raise NotImplementedError()"
   ]
  },
  {
   "cell_type": "code",
   "execution_count": null,
   "metadata": {
    "deletable": false,
    "editable": false,
    "nbgrader": {
     "cell_type": "code",
     "checksum": "f1c8e6f147674b12605b43b9a47d55b6",
     "grade": true,
     "grade_id": "problem_1_ag_p2_day_count_test1",
     "locked": true,
     "points": 0.1,
     "schema_version": 3,
     "solution": false
    }
   },
   "outputs": [],
   "source": [
    "# Print out the solution:\n",
    "print(f'Number of days: {day_count}')"
   ]
  },
  {
   "cell_type": "markdown",
   "metadata": {
    "deletable": false,
    "editable": false,
    "nbgrader": {
     "cell_type": "markdown",
     "checksum": "9cad6f0caab2312ddba764c48fe512cf",
     "grade": false,
     "grade_id": "cell-424dcdef3dde1b89",
     "locked": true,
     "schema_version": 3,
     "solution": false
    }
   },
   "source": [
    "- Find the date of the oldest (first) observation\n",
    "    - Assign your answer into a variable called `first_obs`"
   ]
  },
  {
   "cell_type": "code",
   "execution_count": null,
   "metadata": {
    "deletable": false,
    "nbgrader": {
     "cell_type": "code",
     "checksum": "4ba7a15891f54d125bb9d0bbcd0611f6",
     "grade": false,
     "grade_id": "problem_1_ag_p2_first_observation",
     "locked": false,
     "schema_version": 3,
     "solution": true
    }
   },
   "outputs": [],
   "source": [
    "first_obs = None\n",
    "\n",
    "# YOUR CODE HERE\n",
    "raise NotImplementedError()"
   ]
  },
  {
   "cell_type": "code",
   "execution_count": null,
   "metadata": {
    "deletable": false,
    "editable": false,
    "nbgrader": {
     "cell_type": "code",
     "checksum": "f566ede9d825ed391af49235124382d2",
     "grade": true,
     "grade_id": "problem_1_ag_p2_first_observation_test1",
     "locked": true,
     "points": 0.1,
     "schema_version": 3,
     "solution": false
    }
   },
   "outputs": [],
   "source": [
    "# Print out the solution:\n",
    "print(f'Date of the first observation: {first_obs}')"
   ]
  },
  {
   "cell_type": "markdown",
   "metadata": {
    "deletable": false,
    "editable": false,
    "nbgrader": {
     "cell_type": "markdown",
     "checksum": "79af6f07754be8b7f201fef854f0c911",
     "grade": false,
     "grade_id": "cell-1a9a82e0f837ac34",
     "locked": true,
     "schema_version": 3,
     "solution": false
    }
   },
   "source": [
    "- Find the date of the most recent (last) observation\n",
    "    - Assign your answer into a variable called `last_obs`"
   ]
  },
  {
   "cell_type": "code",
   "execution_count": null,
   "metadata": {
    "deletable": false,
    "nbgrader": {
     "cell_type": "code",
     "checksum": "3fc2457aff864a11b9aa5ad82e9165e2",
     "grade": false,
     "grade_id": "problem_1_ag_p2_last_observation",
     "locked": false,
     "schema_version": 3,
     "solution": true
    }
   },
   "outputs": [],
   "source": [
    "last_obs = None\n",
    "\n",
    "# YOUR CODE HERE\n",
    "raise NotImplementedError()"
   ]
  },
  {
   "cell_type": "code",
   "execution_count": null,
   "metadata": {
    "deletable": false,
    "editable": false,
    "nbgrader": {
     "cell_type": "code",
     "checksum": "5e4371829dbfb5eff482de60ee976881",
     "grade": true,
     "grade_id": "problem_1_ag_p2_last_observation_test1",
     "locked": true,
     "points": 0.1,
     "schema_version": 3,
     "solution": false
    }
   },
   "outputs": [],
   "source": [
    "# Print out the solution:\n",
    "print(f'Date of the last observation: {last_obs}')\n"
   ]
  },
  {
   "cell_type": "markdown",
   "metadata": {
    "deletable": false,
    "editable": false,
    "nbgrader": {
     "cell_type": "markdown",
     "checksum": "131ae54b07359d9ce8453074f0106fc2",
     "grade": false,
     "grade_id": "cell-3fbd149c1e58a16c",
     "locked": true,
     "schema_version": 3,
     "solution": false
    }
   },
   "source": [
    "- Find the average temperature for the whole data file (all observtions) from column `TAVG`\n",
    "    - Assign your answer into a variable called `avg_temp`"
   ]
  },
  {
   "cell_type": "code",
   "execution_count": null,
   "metadata": {
    "deletable": false,
    "nbgrader": {
     "cell_type": "code",
     "checksum": "298d692248344926a86003d5c8abfd5b",
     "grade": false,
     "grade_id": "problem_1_ag_p2_avg_temp",
     "locked": false,
     "schema_version": 3,
     "solution": true
    }
   },
   "outputs": [],
   "source": [
    "avg_temp = None\n",
    "\n",
    "# YOUR CODE HERE\n",
    "raise NotImplementedError()"
   ]
  },
  {
   "cell_type": "code",
   "execution_count": null,
   "metadata": {
    "deletable": false,
    "editable": false,
    "nbgrader": {
     "cell_type": "code",
     "checksum": "40b513b4e924c76f528544ec8a94e645",
     "grade": true,
     "grade_id": "problem_1_ag_p2_avg_temp_test1",
     "locked": true,
     "points": 0.1,
     "schema_version": 3,
     "solution": false
    }
   },
   "outputs": [],
   "source": [
    "# Print out the solution:\n",
    "print(f'Average temperature (F) for the whole dataset: {round(avg_temp, 2)}')"
   ]
  },
  {
   "cell_type": "markdown",
   "metadata": {
    "deletable": false,
    "editable": false,
    "nbgrader": {
     "cell_type": "markdown",
     "checksum": "413f5bc8bb8db591d81ed1b76a04ae7f",
     "grade": false,
     "grade_id": "cell-784617d6edc656a6",
     "locked": true,
     "schema_version": 3,
     "solution": false
    }
   },
   "source": [
    "- Find the average `TMAX` temperature over the Summer of 1969 (months May, June, July, and August of the year 1969)\n",
    "    - Assign your answer into a variable called `avg_temp_1969`"
   ]
  },
  {
   "cell_type": "code",
   "execution_count": null,
   "metadata": {
    "deletable": false,
    "nbgrader": {
     "cell_type": "code",
     "checksum": "137e6d29791dbd47e38adf54144ee8ef",
     "grade": false,
     "grade_id": "problem_1_ag_p2_avg_temp_69",
     "locked": false,
     "schema_version": 3,
     "solution": true
    }
   },
   "outputs": [],
   "source": [
    "avg_temp_1969 = None\n",
    "\n",
    "# YOUR CODE HERE\n",
    "raise NotImplementedError()"
   ]
  },
  {
   "cell_type": "code",
   "execution_count": null,
   "metadata": {
    "deletable": false,
    "editable": false,
    "nbgrader": {
     "cell_type": "code",
     "checksum": "a29f3bca70a28ab4a5e93f60bfbbc960",
     "grade": true,
     "grade_id": "problem_1_ag_p2_avg_temp_69_test1",
     "locked": true,
     "points": 0.2,
     "schema_version": 3,
     "solution": false
    }
   },
   "outputs": [],
   "source": [
    "# This test print should print a number\n",
    "print(f'Average temperature (F) for the Summer of 69: {round(avg_temp_1969, 2)}')\n"
   ]
  },
  {
   "cell_type": "markdown",
   "metadata": {
    "deletable": false,
    "editable": false,
    "nbgrader": {
     "cell_type": "markdown",
     "checksum": "581f72fd70c7f8a05659cb1956d04741",
     "grade": false,
     "grade_id": "cell-beeb38c1b8d3eb13",
     "locked": true,
     "schema_version": 3,
     "solution": false
    }
   },
   "source": [
    "## Problem 2 - Calculating monthly average temperatures (3 points)\n",
    "\n",
    "For this problem your goal is to calculate monthly average temperatures in degrees Celsius from the daily Fahrenheit values we have in the data file. You can continue working with the same DataFrame that you used in Problem 1.\n",
    "\n",
    "### Scores for this problem\n",
    "\n",
    "**Your score on this problem will be based on following criteria:**\n",
    "\n",
    "- Calculating the monthly average temperatures in degrees Celsius for the each month in the dataset (i.e., for each month of each year)\n",
    "    - You should store the monthly average temperatures in a new Pandas DataFrame called `monthly_data`\n",
    "    - `monthly_data` should contain a new column called `temp_celsius` the monthly average temperatures in Celsius\n",
    "    - Convert the `TAVG` values in Fahrenheit into Celsius and store the output in the `temp_celsius`\n",
    "- Including comments that explain what most lines in the code do\n",
    "\n",
    "*Hint: you can start by creating a new column with a label for each month and then continue grouping the data based on this information.*"
   ]
  },
  {
   "cell_type": "code",
   "execution_count": null,
   "metadata": {
    "deletable": false,
    "nbgrader": {
     "cell_type": "code",
     "checksum": "62d37e8db69c6a6a3bd72e22f79426fe",
     "grade": false,
     "grade_id": "problem_2_ag_p1_monthly_averages",
     "locked": false,
     "schema_version": 3,
     "solution": true
    }
   },
   "outputs": [],
   "source": [
    "monthly_data = None\n",
    "\n",
    "# YOUR CODE HERE\n",
    "raise NotImplementedError()"
   ]
  },
  {
   "cell_type": "code",
   "execution_count": null,
   "metadata": {
    "deletable": false,
    "editable": false,
    "nbgrader": {
     "cell_type": "code",
     "checksum": "c1f0bb2e971a3a08e19b7de4f65cf188",
     "grade": true,
     "grade_id": "problem_2_ag_p1_monthly_averages_test1",
     "locked": true,
     "points": 0.2,
     "schema_version": 3,
     "solution": false
    }
   },
   "outputs": [],
   "source": [
    "# This test print should print the length of variable monthly_data\n",
    "print(len(monthly_data))"
   ]
  },
  {
   "cell_type": "code",
   "execution_count": null,
   "metadata": {
    "deletable": false,
    "editable": false,
    "nbgrader": {
     "cell_type": "code",
     "checksum": "eb3b7a2eda732af1359e23440d263d73",
     "grade": true,
     "grade_id": "problem_2_ag_p1_monthly_averages_test2",
     "locked": true,
     "points": 0.8,
     "schema_version": 3,
     "solution": false
    }
   },
   "outputs": [],
   "source": [
    "# This test print should print the column names of monthly_data\n",
    "print(monthly_data.columns.values)"
   ]
  },
  {
   "cell_type": "code",
   "execution_count": null,
   "metadata": {
    "deletable": false,
    "editable": false,
    "nbgrader": {
     "cell_type": "code",
     "checksum": "fea6bdb6e194e4371f229a4aee191e40",
     "grade": true,
     "grade_id": "problem_2_ag_p1_monthly_averages_test3",
     "locked": true,
     "points": 1,
     "schema_version": 3,
     "solution": false
    }
   },
   "outputs": [],
   "source": [
    "# This test print should print the mean of temp_celsius\n",
    "print(monthly_data['temp_celsius'].mean())"
   ]
  },
  {
   "cell_type": "code",
   "execution_count": null,
   "metadata": {
    "deletable": false,
    "editable": false,
    "nbgrader": {
     "cell_type": "code",
     "checksum": "99c2a66c0d510395f7ec8498b257ce2d",
     "grade": true,
     "grade_id": "problem_2_ag_p1_monthly_averages_test4",
     "locked": true,
     "points": 1,
     "schema_version": 3,
     "solution": false
    }
   },
   "outputs": [],
   "source": [
    "# This test print should print the median of temp_celsius\n",
    "print(round(monthly_data['temp_celsius'].median(), 2))"
   ]
  },
  {
   "cell_type": "markdown",
   "metadata": {
    "deletable": false,
    "editable": false,
    "nbgrader": {
     "cell_type": "markdown",
     "checksum": "3b97a147498f7c35e7e5bb587a3f35d5",
     "grade": false,
     "grade_id": "cell-ccd31e45c30df3ec",
     "locked": true,
     "schema_version": 3,
     "solution": false
    }
   },
   "source": [
    "## Problem 3 - Calculating temperature anomalies (5 points)\n",
    "\n",
    "Our goal in this problem is to calculate monthly temperature anomalies in order to see how temperatures have changed over time, relative to an observation period between 1952-1980. You can continue working with the same data that you used in Problems 1 and 2.\n",
    "\n",
    "**Your score on this problem will be based on following criteria:**\n",
    "\n",
    "### Part 1:\n",
    "\n",
    "- Calculating ***the mean temperature for each month over the period from 1952 up to and including 1980*** in a new DataFrame called `reference_temps`\n",
    "    - You should end up with 12 values, 1 mean temperature for each month during the time period (see example table and figure below).\n",
    "    - The columns in the new DataFrame should be `month` and `ref_temp`\n",
    "    \n",
    "Your `reference_temps` dataframe should have the following structure: 1 value for each month of the year (12 total) and the values represent and average in the observation period 1952-1980. The `ref_temp` temperatures should be in degrees Celsius.\n",
    "   \n",
    "| month    | ref_temp         |\n",
    "|----------|------------------|\n",
    "| 01       | -5.838761        |\n",
    "| 02       | -7.064088        |\n",
    "| 03       | -3.874213        |\n",
    "| ...      | ...              |\n",
    "\n",
    "### Part 2:\n",
    "\n",
    "- Calculating **a temperature anomaly for every month** in the `monthly_data` DataFrame using the corresponding monthly average temperature for each of the 12 months:\n",
    "    - In order to achieve this you need to make **a table join** (see [hints for this week](https://geo-python.github.io/site/lessons/L5/exercise-6.html)) between `monthly_data` and `ref_temps` based on the month.\n",
    "    - Temperature anomaly is calculated as the difference between the temperature for a given month (`temp_celsius` column in `monthly_data`) and the corresponding monthly reference temperature (`ref_temp` column in`reference_temps`) \n",
    "    - Store the result in a new column `\"diff\"` \n",
    "    \n",
    "As the output of the table join and the calculation, you should have three new columns in the `monthly_data` DataFrame: \n",
    "1. `diff`: The temperature anomaly, i.e. the difference between the temperature for a given month (e.g., February 1960) and the mean temperature during the reference period (e.g., for February 1952 to 1980), \n",
    "2. `month`: The month for that row of observations\n",
    "3. `ref_temp`: The monthly reference temperature\n",
    "\n",
    "A summary of the relationships between the `monthly_data` and `reference_temps` DataFrames, as well as how the `diff` value should be calculated in the `monthly_data` DataFrame is presented in the figure below.\n",
    "\n",
    "![Exercise 6 dataframes](img/exercise-6-dataframes.png)<br/>\n",
    "*Figure 1. Relationships between the `monthly_data` and `reference_temps` DataFrames.*\n",
    "\n",
    "You should finally report which month had the greatest weather anomaly during the observed time period.\n",
    "\n",
    "Remember to include comments in your code."
   ]
  },
  {
   "cell_type": "code",
   "execution_count": null,
   "metadata": {
    "deletable": false,
    "nbgrader": {
     "cell_type": "code",
     "checksum": "1e0b52840218bc91e6aed8f49134be4f",
     "grade": false,
     "grade_id": "problem_3_ag_p1_temperature_anomaly",
     "locked": false,
     "schema_version": 3,
     "solution": true
    }
   },
   "outputs": [],
   "source": [
    "# YOUR CODE HERE\n",
    "raise NotImplementedError()"
   ]
  },
  {
   "cell_type": "code",
   "execution_count": null,
   "metadata": {
    "deletable": false,
    "editable": false,
    "nbgrader": {
     "cell_type": "code",
     "checksum": "62c207f31e93d4acf7be882e988e402d",
     "grade": true,
     "grade_id": "problem_3_ag_p1_temperature_anomaly_test1",
     "locked": true,
     "points": 1,
     "schema_version": 3,
     "solution": false
    }
   },
   "outputs": [],
   "source": [
    "# Check the monthly data:\n",
    "monthly_data.head()"
   ]
  },
  {
   "cell_type": "code",
   "execution_count": null,
   "metadata": {
    "deletable": false,
    "editable": false,
    "nbgrader": {
     "cell_type": "code",
     "checksum": "8cd77d3c5aa734cd67c966f6513c16c8",
     "grade": true,
     "grade_id": "problem_3_ag_p1_temperature_anomaly_test2",
     "locked": true,
     "points": 4,
     "schema_version": 3,
     "solution": false
    }
   },
   "outputs": [],
   "source": [
    "# Print out desriptive statistics for the relevant columns:\n",
    "monthly_data[[\"temp_celsius\", \"ref_temp\", \"diff\"]].describe()"
   ]
  },
  {
   "cell_type": "markdown",
   "metadata": {
    "deletable": false,
    "editable": false,
    "nbgrader": {
     "cell_type": "markdown",
     "checksum": "26c896552bd7468608a123f5ab321b18",
     "grade": false,
     "grade_id": "cell-bf1e120de1e8386e",
     "locked": true,
     "schema_version": 3,
     "solution": false,
     "task": false
    }
   },
   "source": [
    "Remember also to calculate which month had the largest temperature anomaly during the observed time period in comparison with the reference data. Use the cell below to calculate and print out the answers. Note, you may want to consider the largest absolute value of the temperature anomaly, as well as the largest positive and negative anomalies."
   ]
  },
  {
   "cell_type": "code",
   "execution_count": null,
   "metadata": {
    "deletable": false,
    "nbgrader": {
     "cell_type": "code",
     "checksum": "e1c152b58226fca2c1d60600220754ca",
     "grade": true,
     "grade_id": "problem_3_mg_p2_extra_question",
     "locked": false,
     "points": 0,
     "schema_version": 3,
     "solution": true,
     "task": false
    }
   },
   "outputs": [],
   "source": [
    "# YOUR CODE HERE\n",
    "raise NotImplementedError()"
   ]
  },
  {
   "cell_type": "markdown",
   "metadata": {
    "deletable": false,
    "editable": false,
    "nbgrader": {
     "cell_type": "markdown",
     "checksum": "05d75271b13f8fd543895353efb8b61c",
     "grade": false,
     "grade_id": "cell-99d62d1b7e475fd6",
     "locked": true,
     "schema_version": 3,
     "solution": false
    }
   },
   "source": [
    "### On to Problem 4 (*optional*)\n",
    "\n",
    "Now you can continue to the *optional* [Problem 4](Exercise-6-problem-4.ipynb)"
   ]
  }
 ],
 "metadata": {
  "kernelspec": {
   "display_name": "Python 3 (ipykernel)",
   "language": "python",
   "name": "python3"
  },
  "language_info": {
   "codemirror_mode": {
    "name": "ipython",
    "version": 3
   },
   "file_extension": ".py",
   "mimetype": "text/x-python",
   "name": "python",
   "nbconvert_exporter": "python",
   "pygments_lexer": "ipython3",
   "version": "3.10.6"
  }
 },
 "nbformat": 4,
 "nbformat_minor": 2
}
