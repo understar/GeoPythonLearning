{
 "cells": [
  {
   "cell_type": "code",
   "execution_count": 1,
   "metadata": {},
   "outputs": [],
   "source": [
    "\"\"\" The list below contains names of FMI observation stations in Helsinki.\n",
    "More information and a complete list of stations can be found at \n",
    "https://en.ilmatieteenlaitos.fi/observation-stations \"\"\"\n",
    "station_names = [\n",
    "    \"Helsinki Harmaja\",\n",
    "    \"Helsinki Kaisaniemi\",\n",
    "    \"Helsinki Kaivopuisto\",\n",
    "    \"Helsinki Kumpula\",\n",
    "]"
   ]
  },
  {
   "cell_type": "code",
   "execution_count": 2,
   "metadata": {},
   "outputs": [
    {
     "name": "stdout",
     "output_type": "stream",
     "text": [
      "['Helsinki Harmaja', 'Helsinki Kaisaniemi']\n"
     ]
    }
   ],
   "source": [
    "print(station_names)"
   ]
  },
  {
   "cell_type": "code",
   "execution_count": 3,
   "metadata": {},
   "outputs": [
    {
     "data": {
      "text/plain": [
       "list"
      ]
     },
     "execution_count": 3,
     "metadata": {},
     "output_type": "execute_result"
    }
   ],
   "source": [
    "type(station_names)"
   ]
  },
  {
   "cell_type": "code",
   "execution_count": 4,
   "metadata": {},
   "outputs": [
    {
     "name": "stdout",
     "output_type": "stream",
     "text": [
      "Helsinki Kaisaniemi\n"
     ]
    }
   ],
   "source": [
    "print(station_names[1])"
   ]
  },
  {
   "cell_type": "code",
   "execution_count": 5,
   "metadata": {},
   "outputs": [
    {
     "name": "stdout",
     "output_type": "stream",
     "text": [
      "Helsinki Harmaja\n"
     ]
    }
   ],
   "source": [
    "print(station_names[-2])"
   ]
  },
  {
   "cell_type": "code",
   "execution_count": 6,
   "metadata": {},
   "outputs": [],
   "source": [
    "station_names[-1] = \"Ooo\""
   ]
  },
  {
   "cell_type": "code",
   "execution_count": 7,
   "metadata": {},
   "outputs": [
    {
     "data": {
      "text/plain": [
       "['Helsinki Harmaja', 'Ooo']"
      ]
     },
     "execution_count": 7,
     "metadata": {},
     "output_type": "execute_result"
    }
   ],
   "source": [
    "station_names"
   ]
  },
  {
   "cell_type": "code",
   "execution_count": 8,
   "metadata": {},
   "outputs": [],
   "source": [
    "test_list = [1,1,1,3,4,5,9]"
   ]
  },
  {
   "cell_type": "code",
   "execution_count": 9,
   "metadata": {},
   "outputs": [
    {
     "data": {
      "text/plain": [
       "3"
      ]
     },
     "execution_count": 9,
     "metadata": {},
     "output_type": "execute_result"
    }
   ],
   "source": [
    "test_list.count(1)"
   ]
  },
  {
   "cell_type": "code",
   "execution_count": 10,
   "metadata": {},
   "outputs": [
    {
     "data": {
      "text/plain": [
       "4"
      ]
     },
     "execution_count": 10,
     "metadata": {},
     "output_type": "execute_result"
    }
   ],
   "source": [
    "test_list.index(4)"
   ]
  },
  {
   "cell_type": "code",
   "execution_count": 11,
   "metadata": {},
   "outputs": [],
   "source": [
    "# !!!The return is none.\n",
    "test_list.reverse()"
   ]
  },
  {
   "cell_type": "code",
   "execution_count": 12,
   "metadata": {},
   "outputs": [
    {
     "data": {
      "text/plain": [
       "[9, 5, 4, 3, 1, 1, 1]"
      ]
     },
     "execution_count": 12,
     "metadata": {},
     "output_type": "execute_result"
    }
   ],
   "source": [
    "test_list"
   ]
  },
  {
   "cell_type": "code",
   "execution_count": 13,
   "metadata": {},
   "outputs": [],
   "source": [
    "# !!!The return is none.\n",
    "test_list.sort()"
   ]
  },
  {
   "cell_type": "code",
   "execution_count": 14,
   "metadata": {},
   "outputs": [
    {
     "data": {
      "text/plain": [
       "[1, 1, 1, 3, 4, 5, 9]"
      ]
     },
     "execution_count": 14,
     "metadata": {},
     "output_type": "execute_result"
    }
   ],
   "source": [
    "test_list"
   ]
  },
  {
   "cell_type": "code",
   "execution_count": 5,
   "metadata": {},
   "outputs": [
    {
     "name": "stdout",
     "output_type": "stream",
     "text": [
      "2\n",
      "5\n",
      "8\n"
     ]
    }
   ],
   "source": [
    "for i in range(2, 11, 3):\n",
    "    print(i)"
   ]
  },
  {
   "cell_type": "code",
   "execution_count": 6,
   "metadata": {},
   "outputs": [
    {
     "name": "stdout",
     "output_type": "stream",
     "text": [
      "B\n"
     ]
    }
   ],
   "source": [
    "# Here is the solution\n",
    "yesterday = 14\n",
    "today = 10\n",
    "tomorrow = 13\n",
    "\n",
    "if yesterday <= today:\n",
    "    print(\"A\")\n",
    "elif today != tomorrow:\n",
    "    print(\"B\")\n",
    "elif yesterday > tomorrow:\n",
    "    print(\"C\")\n",
    "elif today == today:\n",
    "    print(\"D\")"
   ]
  },
  {
   "cell_type": "code",
   "execution_count": 2,
   "metadata": {},
   "outputs": [],
   "source": [
    "def add(a, b):\n",
    "    \"\"\"Plus two numbers.\n",
    "    This is function's docString.\n",
    "    \"\"\"\n",
    "    return a+b"
   ]
  },
  {
   "cell_type": "code",
   "execution_count": 3,
   "metadata": {},
   "outputs": [
    {
     "name": "stdout",
     "output_type": "stream",
     "text": [
      "4.5\n"
     ]
    }
   ],
   "source": [
    "print(add(1.0, 3.5))"
   ]
  },
  {
   "cell_type": "code",
   "execution_count": 4,
   "metadata": {},
   "outputs": [
    {
     "name": "stdout",
     "output_type": "stream",
     "text": [
      "Help on function add in module __main__:\n",
      "\n",
      "add(a, b)\n",
      "    Plus two numbers.\n",
      "    This is function's docString.\n",
      "\n"
     ]
    }
   ],
   "source": [
    "help(add)"
   ]
  },
  {
   "cell_type": "code",
   "execution_count": 1,
   "metadata": {},
   "outputs": [],
   "source": [
    "import pandas as pd"
   ]
  },
  {
   "cell_type": "code",
   "execution_count": 3,
   "metadata": {},
   "outputs": [
    {
     "name": "stdout",
     "output_type": "stream",
     "text": [
      "Help on function describe in module pandas.core.generic:\n",
      "\n",
      "describe(self: 'NDFrameT', percentiles=None, include=None, exclude=None) -> 'NDFrameT'\n",
      "    Generate descriptive statistics.\n",
      "    \n",
      "    Descriptive statistics include those that summarize the central\n",
      "    tendency, dispersion and shape of a\n",
      "    dataset's distribution, excluding ``NaN`` values.\n",
      "    \n",
      "    Analyzes both numeric and object series, as well\n",
      "    as ``DataFrame`` column sets of mixed data types. The output\n",
      "    will vary depending on what is provided. Refer to the notes\n",
      "    below for more detail.\n",
      "    \n",
      "    Parameters\n",
      "    ----------\n",
      "    percentiles : list-like of numbers, optional\n",
      "        The percentiles to include in the output. All should\n",
      "        fall between 0 and 1. The default is\n",
      "        ``[.25, .5, .75]``, which returns the 25th, 50th, and\n",
      "        75th percentiles.\n",
      "    include : 'all', list-like of dtypes or None (default), optional\n",
      "        A white list of data types to include in the result. Ignored\n",
      "        for ``Series``. Here are the options:\n",
      "    \n",
      "        - 'all' : All columns of the input will be included in the output.\n",
      "        - A list-like of dtypes : Limits the results to the\n",
      "          provided data types.\n",
      "          To limit the result to numeric types submit\n",
      "          ``numpy.number``. To limit it instead to object columns submit\n",
      "          the ``numpy.object`` data type. Strings\n",
      "          can also be used in the style of\n",
      "          ``select_dtypes`` (e.g. ``df.describe(include=['O'])``). To\n",
      "          select pandas categorical columns, use ``'category'``\n",
      "        - None (default) : The result will include all numeric columns.\n",
      "    exclude : list-like of dtypes or None (default), optional,\n",
      "        A black list of data types to omit from the result. Ignored\n",
      "        for ``Series``. Here are the options:\n",
      "    \n",
      "        - A list-like of dtypes : Excludes the provided data types\n",
      "          from the result. To exclude numeric types submit\n",
      "          ``numpy.number``. To exclude object columns submit the data\n",
      "          type ``numpy.object``. Strings can also be used in the style of\n",
      "          ``select_dtypes`` (e.g. ``df.describe(exclude=['O'])``). To\n",
      "          exclude pandas categorical columns, use ``'category'``\n",
      "        - None (default) : The result will exclude nothing.\n",
      "    \n",
      "    Returns\n",
      "    -------\n",
      "    Series or DataFrame\n",
      "        Summary statistics of the Series or Dataframe provided.\n",
      "    \n",
      "    See Also\n",
      "    --------\n",
      "    DataFrame.count: Count number of non-NA/null observations.\n",
      "    DataFrame.max: Maximum of the values in the object.\n",
      "    DataFrame.min: Minimum of the values in the object.\n",
      "    DataFrame.mean: Mean of the values.\n",
      "    DataFrame.std: Standard deviation of the observations.\n",
      "    DataFrame.select_dtypes: Subset of a DataFrame including/excluding\n",
      "        columns based on their dtype.\n",
      "    \n",
      "    Notes\n",
      "    -----\n",
      "    For numeric data, the result's index will include ``count``,\n",
      "    ``mean``, ``std``, ``min``, ``max`` as well as lower, ``50`` and\n",
      "    upper percentiles. By default the lower percentile is ``25`` and the\n",
      "    upper percentile is ``75``. The ``50`` percentile is the\n",
      "    same as the median.\n",
      "    \n",
      "    For object data (e.g. strings or timestamps), the result's index\n",
      "    will include ``count``, ``unique``, ``top``, and ``freq``. The ``top``\n",
      "    is the most common value. The ``freq`` is the most common value's\n",
      "    frequency. Timestamps also include the ``first`` and ``last`` items.\n",
      "    \n",
      "    If multiple object values have the highest count, then the\n",
      "    ``count`` and ``top`` results will be arbitrarily chosen from\n",
      "    among those with the highest count.\n",
      "    \n",
      "    For mixed data types provided via a ``DataFrame``, the default is to\n",
      "    return only an analysis of numeric columns. If the dataframe consists\n",
      "    only of object and categorical data without any numeric columns, the\n",
      "    default is to return an analysis of both the object and categorical\n",
      "    columns. If ``include='all'`` is provided as an option, the result\n",
      "    will include a union of attributes of each type.\n",
      "    \n",
      "    The `include` and `exclude` parameters can be used to limit\n",
      "    which columns in a ``DataFrame`` are analyzed for the output.\n",
      "    The parameters are ignored when analyzing a ``Series``.\n",
      "    \n",
      "    Examples\n",
      "    --------\n",
      "    Describing a numeric ``Series``.\n",
      "    \n",
      "    >>> s = pd.Series([1, 2, 3])\n",
      "    >>> s.describe()\n",
      "    count    3.0\n",
      "    mean     2.0\n",
      "    std      1.0\n",
      "    min      1.0\n",
      "    25%      1.5\n",
      "    50%      2.0\n",
      "    75%      2.5\n",
      "    max      3.0\n",
      "    dtype: float64\n",
      "    \n",
      "    Describing a categorical ``Series``.\n",
      "    \n",
      "    >>> s = pd.Series(['a', 'a', 'b', 'c'])\n",
      "    >>> s.describe()\n",
      "    count     4\n",
      "    unique    3\n",
      "    top       a\n",
      "    freq      2\n",
      "    dtype: object\n",
      "    \n",
      "    Describing a timestamp ``Series``.\n",
      "    \n",
      "    >>> s = pd.Series([\n",
      "    ...     np.datetime64(\"2000-01-01\"),\n",
      "    ...     np.datetime64(\"2010-01-01\"),\n",
      "    ...     np.datetime64(\"2010-01-01\")\n",
      "    ... ])\n",
      "    >>> s.describe()\n",
      "    count                      3\n",
      "    mean     2006-09-01 08:00:00\n",
      "    min      2000-01-01 00:00:00\n",
      "    25%      2004-12-31 12:00:00\n",
      "    50%      2010-01-01 00:00:00\n",
      "    75%      2010-01-01 00:00:00\n",
      "    max      2010-01-01 00:00:00\n",
      "    dtype: object\n",
      "    \n",
      "    Describing a ``DataFrame``. By default only numeric fields\n",
      "    are returned.\n",
      "    \n",
      "    >>> df = pd.DataFrame({'categorical': pd.Categorical(['d','e','f']),\n",
      "    ...                    'numeric': [1, 2, 3],\n",
      "    ...                    'object': ['a', 'b', 'c']\n",
      "    ...                   })\n",
      "    >>> df.describe()\n",
      "           numeric\n",
      "    count      3.0\n",
      "    mean       2.0\n",
      "    std        1.0\n",
      "    min        1.0\n",
      "    25%        1.5\n",
      "    50%        2.0\n",
      "    75%        2.5\n",
      "    max        3.0\n",
      "    \n",
      "    Describing all columns of a ``DataFrame`` regardless of data type.\n",
      "    \n",
      "    >>> df.describe(include='all')  # doctest: +SKIP\n",
      "           categorical  numeric object\n",
      "    count            3      3.0      3\n",
      "    unique           3      NaN      3\n",
      "    top              f      NaN      a\n",
      "    freq             1      NaN      1\n",
      "    mean           NaN      2.0    NaN\n",
      "    std            NaN      1.0    NaN\n",
      "    min            NaN      1.0    NaN\n",
      "    25%            NaN      1.5    NaN\n",
      "    50%            NaN      2.0    NaN\n",
      "    75%            NaN      2.5    NaN\n",
      "    max            NaN      3.0    NaN\n",
      "    \n",
      "    Describing a column from a ``DataFrame`` by accessing it as\n",
      "    an attribute.\n",
      "    \n",
      "    >>> df.numeric.describe()\n",
      "    count    3.0\n",
      "    mean     2.0\n",
      "    std      1.0\n",
      "    min      1.0\n",
      "    25%      1.5\n",
      "    50%      2.0\n",
      "    75%      2.5\n",
      "    max      3.0\n",
      "    Name: numeric, dtype: float64\n",
      "    \n",
      "    Including only numeric columns in a ``DataFrame`` description.\n",
      "    \n",
      "    >>> df.describe(include=[np.number])\n",
      "           numeric\n",
      "    count      3.0\n",
      "    mean       2.0\n",
      "    std        1.0\n",
      "    min        1.0\n",
      "    25%        1.5\n",
      "    50%        2.0\n",
      "    75%        2.5\n",
      "    max        3.0\n",
      "    \n",
      "    Including only string columns in a ``DataFrame`` description.\n",
      "    \n",
      "    >>> df.describe(include=[object])  # doctest: +SKIP\n",
      "           object\n",
      "    count       3\n",
      "    unique      3\n",
      "    top         a\n",
      "    freq        1\n",
      "    \n",
      "    Including only categorical columns from a ``DataFrame`` description.\n",
      "    \n",
      "    >>> df.describe(include=['category'])\n",
      "           categorical\n",
      "    count            3\n",
      "    unique           3\n",
      "    top              d\n",
      "    freq             1\n",
      "    \n",
      "    Excluding numeric columns from a ``DataFrame`` description.\n",
      "    \n",
      "    >>> df.describe(exclude=[np.number])  # doctest: +SKIP\n",
      "           categorical object\n",
      "    count            3      3\n",
      "    unique           3      3\n",
      "    top              f      a\n",
      "    freq             1      1\n",
      "    \n",
      "    Excluding object columns from a ``DataFrame`` description.\n",
      "    \n",
      "    >>> df.describe(exclude=[object])  # doctest: +SKIP\n",
      "           categorical  numeric\n",
      "    count            3      3.0\n",
      "    unique           3      NaN\n",
      "    top              f      NaN\n",
      "    freq             1      NaN\n",
      "    mean           NaN      2.0\n",
      "    std            NaN      1.0\n",
      "    min            NaN      1.0\n",
      "    25%            NaN      1.5\n",
      "    50%            NaN      2.0\n",
      "    75%            NaN      2.5\n",
      "    max            NaN      3.0\n",
      "\n"
     ]
    }
   ],
   "source": [
    "help(pd.DataFrame.describe)"
   ]
  },
  {
   "cell_type": "code",
   "execution_count": 4,
   "metadata": {},
   "outputs": [],
   "source": [
    "# Station names\n",
    "stations = [\n",
    "    \"Hanko Russarö\",\n",
    "    \"Heinola Asemantaus\",\n",
    "    \"Helsinki Kaisaniemi\",\n",
    "    \"Helsinki Malmi airfield\",\n",
    "]\n",
    "\n",
    "# Latitude coordinates of Weather stations\n",
    "lats = [59.77, 61.2, 60.18, 60.25]\n",
    "\n",
    "# Longitude coordinates of Weather stations\n",
    "lons = [22.95, 26.05, 24.94, 25.05]"
   ]
  },
  {
   "cell_type": "markdown",
   "metadata": {},
   "source": [
    "### Create dataframe from list"
   ]
  },
  {
   "cell_type": "code",
   "execution_count": 5,
   "metadata": {},
   "outputs": [
    {
     "data": {
      "text/html": [
       "<div>\n",
       "<style scoped>\n",
       "    .dataframe tbody tr th:only-of-type {\n",
       "        vertical-align: middle;\n",
       "    }\n",
       "\n",
       "    .dataframe tbody tr th {\n",
       "        vertical-align: top;\n",
       "    }\n",
       "\n",
       "    .dataframe thead th {\n",
       "        text-align: right;\n",
       "    }\n",
       "</style>\n",
       "<table border=\"1\" class=\"dataframe\">\n",
       "  <thead>\n",
       "    <tr style=\"text-align: right;\">\n",
       "      <th></th>\n",
       "      <th>station_name</th>\n",
       "      <th>lat</th>\n",
       "      <th>lon</th>\n",
       "    </tr>\n",
       "  </thead>\n",
       "  <tbody>\n",
       "    <tr>\n",
       "      <th>0</th>\n",
       "      <td>Hanko Russarö</td>\n",
       "      <td>59.77</td>\n",
       "      <td>22.95</td>\n",
       "    </tr>\n",
       "    <tr>\n",
       "      <th>1</th>\n",
       "      <td>Heinola Asemantaus</td>\n",
       "      <td>61.20</td>\n",
       "      <td>26.05</td>\n",
       "    </tr>\n",
       "    <tr>\n",
       "      <th>2</th>\n",
       "      <td>Helsinki Kaisaniemi</td>\n",
       "      <td>60.18</td>\n",
       "      <td>24.94</td>\n",
       "    </tr>\n",
       "    <tr>\n",
       "      <th>3</th>\n",
       "      <td>Helsinki Malmi airfield</td>\n",
       "      <td>60.25</td>\n",
       "      <td>25.05</td>\n",
       "    </tr>\n",
       "  </tbody>\n",
       "</table>\n",
       "</div>"
      ],
      "text/plain": [
       "              station_name    lat    lon\n",
       "0            Hanko Russarö  59.77  22.95\n",
       "1       Heinola Asemantaus  61.20  26.05\n",
       "2      Helsinki Kaisaniemi  60.18  24.94\n",
       "3  Helsinki Malmi airfield  60.25  25.05"
      ]
     },
     "execution_count": 5,
     "metadata": {},
     "output_type": "execute_result"
    }
   ],
   "source": [
    "new_data = pd.DataFrame(data={\"station_name\": stations, \"lat\": lats, \"lon\": lons})\n",
    "new_data"
   ]
  },
  {
   "cell_type": "code",
   "execution_count": 6,
   "metadata": {},
   "outputs": [],
   "source": [
    "fp = \"Kumpula-June-2016-w-metadata.txt\"\n",
    "\n",
    "data = pd.read_csv(fp, skiprows=8)"
   ]
  },
  {
   "cell_type": "code",
   "execution_count": 7,
   "metadata": {},
   "outputs": [
    {
     "data": {
      "text/html": [
       "<div>\n",
       "<style scoped>\n",
       "    .dataframe tbody tr th:only-of-type {\n",
       "        vertical-align: middle;\n",
       "    }\n",
       "\n",
       "    .dataframe tbody tr th {\n",
       "        vertical-align: top;\n",
       "    }\n",
       "\n",
       "    .dataframe thead th {\n",
       "        text-align: right;\n",
       "    }\n",
       "</style>\n",
       "<table border=\"1\" class=\"dataframe\">\n",
       "  <thead>\n",
       "    <tr style=\"text-align: right;\">\n",
       "      <th></th>\n",
       "      <th>YEARMODA</th>\n",
       "      <th>TEMP</th>\n",
       "      <th>MAX</th>\n",
       "      <th>MIN</th>\n",
       "    </tr>\n",
       "  </thead>\n",
       "  <tbody>\n",
       "    <tr>\n",
       "      <th>0</th>\n",
       "      <td>20160601</td>\n",
       "      <td>65.5</td>\n",
       "      <td>73.6</td>\n",
       "      <td>54.7</td>\n",
       "    </tr>\n",
       "    <tr>\n",
       "      <th>1</th>\n",
       "      <td>20160602</td>\n",
       "      <td>65.8</td>\n",
       "      <td>80.8</td>\n",
       "      <td>55.0</td>\n",
       "    </tr>\n",
       "    <tr>\n",
       "      <th>2</th>\n",
       "      <td>20160603</td>\n",
       "      <td>68.4</td>\n",
       "      <td>NaN</td>\n",
       "      <td>55.6</td>\n",
       "    </tr>\n",
       "    <tr>\n",
       "      <th>3</th>\n",
       "      <td>20160604</td>\n",
       "      <td>57.5</td>\n",
       "      <td>70.9</td>\n",
       "      <td>47.3</td>\n",
       "    </tr>\n",
       "    <tr>\n",
       "      <th>4</th>\n",
       "      <td>20160605</td>\n",
       "      <td>51.4</td>\n",
       "      <td>58.3</td>\n",
       "      <td>43.2</td>\n",
       "    </tr>\n",
       "  </tbody>\n",
       "</table>\n",
       "</div>"
      ],
      "text/plain": [
       "   YEARMODA  TEMP   MAX   MIN\n",
       "0  20160601  65.5  73.6  54.7\n",
       "1  20160602  65.8  80.8  55.0\n",
       "2  20160603  68.4   NaN  55.6\n",
       "3  20160604  57.5  70.9  47.3\n",
       "4  20160605  51.4  58.3  43.2"
      ]
     },
     "execution_count": 7,
     "metadata": {},
     "output_type": "execute_result"
    }
   ],
   "source": [
    "data.head()"
   ]
  },
  {
   "cell_type": "code",
   "execution_count": 8,
   "metadata": {},
   "outputs": [],
   "source": [
    "data['DIFF'] = 0.0"
   ]
  },
  {
   "cell_type": "code",
   "execution_count": 9,
   "metadata": {},
   "outputs": [
    {
     "data": {
      "text/html": [
       "<div>\n",
       "<style scoped>\n",
       "    .dataframe tbody tr th:only-of-type {\n",
       "        vertical-align: middle;\n",
       "    }\n",
       "\n",
       "    .dataframe tbody tr th {\n",
       "        vertical-align: top;\n",
       "    }\n",
       "\n",
       "    .dataframe thead th {\n",
       "        text-align: right;\n",
       "    }\n",
       "</style>\n",
       "<table border=\"1\" class=\"dataframe\">\n",
       "  <thead>\n",
       "    <tr style=\"text-align: right;\">\n",
       "      <th></th>\n",
       "      <th>YEARMODA</th>\n",
       "      <th>TEMP</th>\n",
       "      <th>MAX</th>\n",
       "      <th>MIN</th>\n",
       "      <th>DIFF</th>\n",
       "    </tr>\n",
       "  </thead>\n",
       "  <tbody>\n",
       "    <tr>\n",
       "      <th>0</th>\n",
       "      <td>20160601</td>\n",
       "      <td>65.5</td>\n",
       "      <td>73.6</td>\n",
       "      <td>54.7</td>\n",
       "      <td>0.0</td>\n",
       "    </tr>\n",
       "    <tr>\n",
       "      <th>1</th>\n",
       "      <td>20160602</td>\n",
       "      <td>65.8</td>\n",
       "      <td>80.8</td>\n",
       "      <td>55.0</td>\n",
       "      <td>0.0</td>\n",
       "    </tr>\n",
       "    <tr>\n",
       "      <th>2</th>\n",
       "      <td>20160603</td>\n",
       "      <td>68.4</td>\n",
       "      <td>NaN</td>\n",
       "      <td>55.6</td>\n",
       "      <td>0.0</td>\n",
       "    </tr>\n",
       "    <tr>\n",
       "      <th>3</th>\n",
       "      <td>20160604</td>\n",
       "      <td>57.5</td>\n",
       "      <td>70.9</td>\n",
       "      <td>47.3</td>\n",
       "      <td>0.0</td>\n",
       "    </tr>\n",
       "    <tr>\n",
       "      <th>4</th>\n",
       "      <td>20160605</td>\n",
       "      <td>51.4</td>\n",
       "      <td>58.3</td>\n",
       "      <td>43.2</td>\n",
       "      <td>0.0</td>\n",
       "    </tr>\n",
       "  </tbody>\n",
       "</table>\n",
       "</div>"
      ],
      "text/plain": [
       "   YEARMODA  TEMP   MAX   MIN  DIFF\n",
       "0  20160601  65.5  73.6  54.7   0.0\n",
       "1  20160602  65.8  80.8  55.0   0.0\n",
       "2  20160603  68.4   NaN  55.6   0.0\n",
       "3  20160604  57.5  70.9  47.3   0.0\n",
       "4  20160605  51.4  58.3  43.2   0.0"
      ]
     },
     "execution_count": 9,
     "metadata": {},
     "output_type": "execute_result"
    }
   ],
   "source": [
    "data.head()"
   ]
  },
  {
   "cell_type": "code",
   "execution_count": 10,
   "metadata": {},
   "outputs": [
    {
     "data": {
      "text/plain": [
       "dtype('float64')"
      ]
     },
     "execution_count": 10,
     "metadata": {},
     "output_type": "execute_result"
    }
   ],
   "source": [
    "data['DIFF'].dtypes"
   ]
  },
  {
   "cell_type": "code",
   "execution_count": 11,
   "metadata": {},
   "outputs": [],
   "source": [
    "data['DIFF'] = data['MAX'] - data['MIN']"
   ]
  },
  {
   "cell_type": "code",
   "execution_count": 12,
   "metadata": {},
   "outputs": [
    {
     "data": {
      "text/html": [
       "<div>\n",
       "<style scoped>\n",
       "    .dataframe tbody tr th:only-of-type {\n",
       "        vertical-align: middle;\n",
       "    }\n",
       "\n",
       "    .dataframe tbody tr th {\n",
       "        vertical-align: top;\n",
       "    }\n",
       "\n",
       "    .dataframe thead th {\n",
       "        text-align: right;\n",
       "    }\n",
       "</style>\n",
       "<table border=\"1\" class=\"dataframe\">\n",
       "  <thead>\n",
       "    <tr style=\"text-align: right;\">\n",
       "      <th></th>\n",
       "      <th>YEARMODA</th>\n",
       "      <th>TEMP</th>\n",
       "      <th>MAX</th>\n",
       "      <th>MIN</th>\n",
       "      <th>DIFF</th>\n",
       "    </tr>\n",
       "  </thead>\n",
       "  <tbody>\n",
       "    <tr>\n",
       "      <th>0</th>\n",
       "      <td>20160601</td>\n",
       "      <td>65.5</td>\n",
       "      <td>73.6</td>\n",
       "      <td>54.7</td>\n",
       "      <td>18.9</td>\n",
       "    </tr>\n",
       "    <tr>\n",
       "      <th>1</th>\n",
       "      <td>20160602</td>\n",
       "      <td>65.8</td>\n",
       "      <td>80.8</td>\n",
       "      <td>55.0</td>\n",
       "      <td>25.8</td>\n",
       "    </tr>\n",
       "    <tr>\n",
       "      <th>2</th>\n",
       "      <td>20160603</td>\n",
       "      <td>68.4</td>\n",
       "      <td>NaN</td>\n",
       "      <td>55.6</td>\n",
       "      <td>NaN</td>\n",
       "    </tr>\n",
       "    <tr>\n",
       "      <th>3</th>\n",
       "      <td>20160604</td>\n",
       "      <td>57.5</td>\n",
       "      <td>70.9</td>\n",
       "      <td>47.3</td>\n",
       "      <td>23.6</td>\n",
       "    </tr>\n",
       "    <tr>\n",
       "      <th>4</th>\n",
       "      <td>20160605</td>\n",
       "      <td>51.4</td>\n",
       "      <td>58.3</td>\n",
       "      <td>43.2</td>\n",
       "      <td>15.1</td>\n",
       "    </tr>\n",
       "  </tbody>\n",
       "</table>\n",
       "</div>"
      ],
      "text/plain": [
       "   YEARMODA  TEMP   MAX   MIN  DIFF\n",
       "0  20160601  65.5  73.6  54.7  18.9\n",
       "1  20160602  65.8  80.8  55.0  25.8\n",
       "2  20160603  68.4   NaN  55.6   NaN\n",
       "3  20160604  57.5  70.9  47.3  23.6\n",
       "4  20160605  51.4  58.3  43.2  15.1"
      ]
     },
     "execution_count": 12,
     "metadata": {},
     "output_type": "execute_result"
    }
   ],
   "source": [
    "data.head()"
   ]
  },
  {
   "cell_type": "code",
   "execution_count": 13,
   "metadata": {},
   "outputs": [
    {
     "data": {
      "text/html": [
       "<div>\n",
       "<style scoped>\n",
       "    .dataframe tbody tr th:only-of-type {\n",
       "        vertical-align: middle;\n",
       "    }\n",
       "\n",
       "    .dataframe tbody tr th {\n",
       "        vertical-align: top;\n",
       "    }\n",
       "\n",
       "    .dataframe thead th {\n",
       "        text-align: right;\n",
       "    }\n",
       "</style>\n",
       "<table border=\"1\" class=\"dataframe\">\n",
       "  <thead>\n",
       "    <tr style=\"text-align: right;\">\n",
       "      <th></th>\n",
       "      <th>YEARMODA</th>\n",
       "      <th>TEMP</th>\n",
       "      <th>MAX</th>\n",
       "      <th>MIN</th>\n",
       "      <th>DIFF</th>\n",
       "      <th>TEMP_CELSIUS</th>\n",
       "    </tr>\n",
       "  </thead>\n",
       "  <tbody>\n",
       "    <tr>\n",
       "      <th>0</th>\n",
       "      <td>20160601</td>\n",
       "      <td>65.5</td>\n",
       "      <td>73.6</td>\n",
       "      <td>54.7</td>\n",
       "      <td>18.9</td>\n",
       "      <td>18.611111</td>\n",
       "    </tr>\n",
       "    <tr>\n",
       "      <th>1</th>\n",
       "      <td>20160602</td>\n",
       "      <td>65.8</td>\n",
       "      <td>80.8</td>\n",
       "      <td>55.0</td>\n",
       "      <td>25.8</td>\n",
       "      <td>18.777778</td>\n",
       "    </tr>\n",
       "    <tr>\n",
       "      <th>2</th>\n",
       "      <td>20160603</td>\n",
       "      <td>68.4</td>\n",
       "      <td>NaN</td>\n",
       "      <td>55.6</td>\n",
       "      <td>NaN</td>\n",
       "      <td>20.222222</td>\n",
       "    </tr>\n",
       "    <tr>\n",
       "      <th>3</th>\n",
       "      <td>20160604</td>\n",
       "      <td>57.5</td>\n",
       "      <td>70.9</td>\n",
       "      <td>47.3</td>\n",
       "      <td>23.6</td>\n",
       "      <td>14.166667</td>\n",
       "    </tr>\n",
       "    <tr>\n",
       "      <th>4</th>\n",
       "      <td>20160605</td>\n",
       "      <td>51.4</td>\n",
       "      <td>58.3</td>\n",
       "      <td>43.2</td>\n",
       "      <td>15.1</td>\n",
       "      <td>10.777778</td>\n",
       "    </tr>\n",
       "  </tbody>\n",
       "</table>\n",
       "</div>"
      ],
      "text/plain": [
       "   YEARMODA  TEMP   MAX   MIN  DIFF  TEMP_CELSIUS\n",
       "0  20160601  65.5  73.6  54.7  18.9     18.611111\n",
       "1  20160602  65.8  80.8  55.0  25.8     18.777778\n",
       "2  20160603  68.4   NaN  55.6   NaN     20.222222\n",
       "3  20160604  57.5  70.9  47.3  23.6     14.166667\n",
       "4  20160605  51.4  58.3  43.2  15.1     10.777778"
      ]
     },
     "execution_count": 13,
     "metadata": {},
     "output_type": "execute_result"
    }
   ],
   "source": [
    "# Create a new column and convert temp fahrenheit to celsius:\n",
    "data[\"TEMP_CELSIUS\"] = (data[\"TEMP\"] - 32) / (9 / 5)\n",
    "\n",
    "# Check output\n",
    "data.head()"
   ]
  },
  {
   "cell_type": "code",
   "execution_count": 15,
   "metadata": {},
   "outputs": [
    {
     "data": {
      "text/html": [
       "<div>\n",
       "<style scoped>\n",
       "    .dataframe tbody tr th:only-of-type {\n",
       "        vertical-align: middle;\n",
       "    }\n",
       "\n",
       "    .dataframe tbody tr th {\n",
       "        vertical-align: top;\n",
       "    }\n",
       "\n",
       "    .dataframe thead th {\n",
       "        text-align: right;\n",
       "    }\n",
       "</style>\n",
       "<table border=\"1\" class=\"dataframe\">\n",
       "  <thead>\n",
       "    <tr style=\"text-align: right;\">\n",
       "      <th></th>\n",
       "      <th>YEARMODA</th>\n",
       "      <th>TEMP</th>\n",
       "      <th>MAX</th>\n",
       "      <th>MIN</th>\n",
       "      <th>DIFF</th>\n",
       "      <th>TEMP_CELSIUS</th>\n",
       "      <th>TEMP_KELVIN</th>\n",
       "    </tr>\n",
       "  </thead>\n",
       "  <tbody>\n",
       "    <tr>\n",
       "      <th>0</th>\n",
       "      <td>20160601</td>\n",
       "      <td>65.5</td>\n",
       "      <td>73.6</td>\n",
       "      <td>54.7</td>\n",
       "      <td>18.9</td>\n",
       "      <td>18.611111</td>\n",
       "      <td>291.761111</td>\n",
       "    </tr>\n",
       "    <tr>\n",
       "      <th>1</th>\n",
       "      <td>20160602</td>\n",
       "      <td>65.8</td>\n",
       "      <td>80.8</td>\n",
       "      <td>55.0</td>\n",
       "      <td>25.8</td>\n",
       "      <td>18.777778</td>\n",
       "      <td>291.927778</td>\n",
       "    </tr>\n",
       "    <tr>\n",
       "      <th>2</th>\n",
       "      <td>20160603</td>\n",
       "      <td>68.4</td>\n",
       "      <td>NaN</td>\n",
       "      <td>55.6</td>\n",
       "      <td>NaN</td>\n",
       "      <td>20.222222</td>\n",
       "      <td>293.372222</td>\n",
       "    </tr>\n",
       "    <tr>\n",
       "      <th>3</th>\n",
       "      <td>20160604</td>\n",
       "      <td>57.5</td>\n",
       "      <td>70.9</td>\n",
       "      <td>47.3</td>\n",
       "      <td>23.6</td>\n",
       "      <td>14.166667</td>\n",
       "      <td>287.316667</td>\n",
       "    </tr>\n",
       "    <tr>\n",
       "      <th>4</th>\n",
       "      <td>20160605</td>\n",
       "      <td>51.4</td>\n",
       "      <td>58.3</td>\n",
       "      <td>43.2</td>\n",
       "      <td>15.1</td>\n",
       "      <td>10.777778</td>\n",
       "      <td>283.927778</td>\n",
       "    </tr>\n",
       "  </tbody>\n",
       "</table>\n",
       "</div>"
      ],
      "text/plain": [
       "   YEARMODA  TEMP   MAX   MIN  DIFF  TEMP_CELSIUS  TEMP_KELVIN\n",
       "0  20160601  65.5  73.6  54.7  18.9     18.611111   291.761111\n",
       "1  20160602  65.8  80.8  55.0  25.8     18.777778   291.927778\n",
       "2  20160603  68.4   NaN  55.6   NaN     20.222222   293.372222\n",
       "3  20160604  57.5  70.9  47.3  23.6     14.166667   287.316667\n",
       "4  20160605  51.4  58.3  43.2  15.1     10.777778   283.927778"
      ]
     },
     "execution_count": 15,
     "metadata": {},
     "output_type": "execute_result"
    }
   ],
   "source": [
    "# Create a new column and convert temp fahrenheit to celsius:\n",
    "data[\"TEMP_KELVIN\"] = data[\"TEMP_CELSIUS\"] + 273.15\n",
    "# Check output\n",
    "data.head()"
   ]
  },
  {
   "cell_type": "code",
   "execution_count": 16,
   "metadata": {},
   "outputs": [
    {
     "data": {
      "text/html": [
       "<div>\n",
       "<style scoped>\n",
       "    .dataframe tbody tr th:only-of-type {\n",
       "        vertical-align: middle;\n",
       "    }\n",
       "\n",
       "    .dataframe tbody tr th {\n",
       "        vertical-align: top;\n",
       "    }\n",
       "\n",
       "    .dataframe thead th {\n",
       "        text-align: right;\n",
       "    }\n",
       "</style>\n",
       "<table border=\"1\" class=\"dataframe\">\n",
       "  <thead>\n",
       "    <tr style=\"text-align: right;\">\n",
       "      <th></th>\n",
       "      <th>YEARMODA</th>\n",
       "      <th>TEMP</th>\n",
       "      <th>MAX</th>\n",
       "      <th>MIN</th>\n",
       "      <th>DIFF</th>\n",
       "      <th>TEMP_CELSIUS</th>\n",
       "      <th>TEMP_KELVIN</th>\n",
       "    </tr>\n",
       "  </thead>\n",
       "  <tbody>\n",
       "    <tr>\n",
       "      <th>0</th>\n",
       "      <td>20160601</td>\n",
       "      <td>65.5</td>\n",
       "      <td>73.6</td>\n",
       "      <td>54.7</td>\n",
       "      <td>18.9</td>\n",
       "      <td>18.611111</td>\n",
       "      <td>291.761111</td>\n",
       "    </tr>\n",
       "    <tr>\n",
       "      <th>1</th>\n",
       "      <td>20160602</td>\n",
       "      <td>65.8</td>\n",
       "      <td>80.8</td>\n",
       "      <td>55.0</td>\n",
       "      <td>25.8</td>\n",
       "      <td>18.777778</td>\n",
       "      <td>291.927778</td>\n",
       "    </tr>\n",
       "    <tr>\n",
       "      <th>2</th>\n",
       "      <td>20160603</td>\n",
       "      <td>68.4</td>\n",
       "      <td>NaN</td>\n",
       "      <td>55.6</td>\n",
       "      <td>NaN</td>\n",
       "      <td>20.222222</td>\n",
       "      <td>293.372222</td>\n",
       "    </tr>\n",
       "    <tr>\n",
       "      <th>3</th>\n",
       "      <td>20160604</td>\n",
       "      <td>57.5</td>\n",
       "      <td>70.9</td>\n",
       "      <td>47.3</td>\n",
       "      <td>23.6</td>\n",
       "      <td>14.166667</td>\n",
       "      <td>287.316667</td>\n",
       "    </tr>\n",
       "    <tr>\n",
       "      <th>4</th>\n",
       "      <td>20160605</td>\n",
       "      <td>51.4</td>\n",
       "      <td>58.3</td>\n",
       "      <td>43.2</td>\n",
       "      <td>15.1</td>\n",
       "      <td>10.777778</td>\n",
       "      <td>283.927778</td>\n",
       "    </tr>\n",
       "  </tbody>\n",
       "</table>\n",
       "</div>"
      ],
      "text/plain": [
       "   YEARMODA  TEMP   MAX   MIN  DIFF  TEMP_CELSIUS  TEMP_KELVIN\n",
       "0  20160601  65.5  73.6  54.7  18.9     18.611111   291.761111\n",
       "1  20160602  65.8  80.8  55.0  25.8     18.777778   291.927778\n",
       "2  20160603  68.4   NaN  55.6   NaN     20.222222   293.372222\n",
       "3  20160604  57.5  70.9  47.3  23.6     14.166667   287.316667\n",
       "4  20160605  51.4  58.3  43.2  15.1     10.777778   283.927778"
      ]
     },
     "execution_count": 16,
     "metadata": {},
     "output_type": "execute_result"
    }
   ],
   "source": [
    "# Select first five rows of dataframe using row index values\n",
    "selection = data[0:5]\n",
    "selection"
   ]
  },
  {
   "cell_type": "code",
   "execution_count": 17,
   "metadata": {},
   "outputs": [
    {
     "data": {
      "text/plain": [
       "0    65.5\n",
       "1    65.8\n",
       "2    68.4\n",
       "3    57.5\n",
       "4    51.4\n",
       "5    52.2\n",
       "Name: TEMP, dtype: float64"
      ]
     },
     "execution_count": 17,
     "metadata": {},
     "output_type": "execute_result"
    }
   ],
   "source": [
    "selection = data.loc[0:5, \"TEMP\"]\n",
    "selection\n"
   ]
  },
  {
   "cell_type": "code",
   "execution_count": 18,
   "metadata": {},
   "outputs": [
    {
     "data": {
      "text/plain": [
       "18.253968253968257"
      ]
     },
     "execution_count": 18,
     "metadata": {},
     "output_type": "execute_result"
    }
   ],
   "source": [
    "# Here is the solution\n",
    "data.loc[23:29, \"TEMP_CELSIUS\"].mean()"
   ]
  },
  {
   "cell_type": "code",
   "execution_count": 19,
   "metadata": {},
   "outputs": [
    {
     "data": {
      "text/plain": [
       "YEARMODA        2.016060e+07\n",
       "TEMP            5.140000e+01\n",
       "MAX             5.830000e+01\n",
       "MIN             4.320000e+01\n",
       "DIFF            1.510000e+01\n",
       "TEMP_CELSIUS    1.077778e+01\n",
       "TEMP_KELVIN     2.839278e+02\n",
       "Name: 4, dtype: float64"
      ]
     },
     "execution_count": 19,
     "metadata": {},
     "output_type": "execute_result"
    }
   ],
   "source": [
    "# Select one row using index\n",
    "row = data.loc[4]\n",
    "row"
   ]
  },
  {
   "cell_type": "code",
   "execution_count": 21,
   "metadata": {},
   "outputs": [
    {
     "data": {
      "text/plain": [
       "51.4"
      ]
     },
     "execution_count": 21,
     "metadata": {},
     "output_type": "execute_result"
    }
   ],
   "source": [
    "row['TEMP']"
   ]
  },
  {
   "cell_type": "code",
   "execution_count": 22,
   "metadata": {},
   "outputs": [
    {
     "data": {
      "text/plain": [
       "65.5"
      ]
     },
     "execution_count": 22,
     "metadata": {},
     "output_type": "execute_result"
    }
   ],
   "source": [
    "data.at[0, \"TEMP\"]"
   ]
  },
  {
   "cell_type": "code",
   "execution_count": 3,
   "metadata": {},
   "outputs": [
    {
     "ename": "AssertionError",
     "evalue": "The speed must be greater than or equal to 0.",
     "output_type": "error",
     "traceback": [
      "\u001b[0;31m---------------------------------------------------------------------------\u001b[0m",
      "\u001b[0;31mAssertionError\u001b[0m                            Traceback (most recent call last)",
      "Cell \u001b[0;32mIn[3], line 8\u001b[0m\n\u001b[1;32m      4\u001b[0m     \u001b[39mreturn\u001b[39;00m speed \u001b[39m*\u001b[39m \u001b[39m1000\u001b[39m \u001b[39m/\u001b[39m \u001b[39m3600\u001b[39m\n\u001b[1;32m      7\u001b[0m wind_speed_km \u001b[39m=\u001b[39m \u001b[39m-\u001b[39m\u001b[39m27\u001b[39m\n\u001b[0;32m----> 8\u001b[0m wind_speed_ms \u001b[39m=\u001b[39m convert_kph_ms(wind_speed_km)\n\u001b[1;32m     10\u001b[0m \u001b[39mprint\u001b[39m(\u001b[39mf\u001b[39m\u001b[39m\"\u001b[39m\u001b[39mA wind speed of \u001b[39m\u001b[39m{\u001b[39;00mwind_speed_km\u001b[39m}\u001b[39;00m\u001b[39m km/hr is \u001b[39m\u001b[39m{\u001b[39;00mwind_speed_ms\u001b[39m}\u001b[39;00m\u001b[39m m/s.\u001b[39m\u001b[39m\"\u001b[39m)\n",
      "Cell \u001b[0;32mIn[3], line 3\u001b[0m, in \u001b[0;36mconvert_kph_ms\u001b[0;34m(speed)\u001b[0m\n\u001b[1;32m      1\u001b[0m \u001b[39mdef\u001b[39;00m \u001b[39mconvert_kph_ms\u001b[39m(speed):\n\u001b[1;32m      2\u001b[0m \u001b[39m    \u001b[39m\u001b[39m\"\"\"Converts velocity (speed) in km/hr to m/s\"\"\"\u001b[39;00m\n\u001b[0;32m----> 3\u001b[0m     \u001b[39massert\u001b[39;00m speed \u001b[39m>\u001b[39m\u001b[39m=\u001b[39m \u001b[39m0.0\u001b[39m, \u001b[39m\"\u001b[39m\u001b[39mThe speed must be greater than or equal to 0.\u001b[39m\u001b[39m\"\u001b[39m\n\u001b[1;32m      4\u001b[0m     \u001b[39mreturn\u001b[39;00m speed \u001b[39m*\u001b[39m \u001b[39m1000\u001b[39m \u001b[39m/\u001b[39m \u001b[39m3600\u001b[39m\n",
      "\u001b[0;31mAssertionError\u001b[0m: The speed must be greater than or equal to 0."
     ]
    }
   ],
   "source": [
    "def convert_kph_ms(speed):\n",
    "    \"\"\"Converts velocity (speed) in km/hr to m/s\"\"\"\n",
    "    assert speed >= 0.0, \"The speed must be greater than or equal to 0.\"\n",
    "    return speed * 1000 / 3600\n",
    "\n",
    "\n",
    "wind_speed_km = -27\n",
    "wind_speed_ms = convert_kph_ms(wind_speed_km)\n",
    "\n",
    "print(f\"A wind speed of {wind_speed_km} km/hr is {wind_speed_ms} m/s.\")"
   ]
  },
  {
   "cell_type": "code",
   "execution_count": null,
   "metadata": {},
   "outputs": [],
   "source": []
  }
 ],
 "metadata": {
  "kernelspec": {
   "display_name": ".venv",
   "language": "python",
   "name": "python3"
  },
  "language_info": {
   "codemirror_mode": {
    "name": "ipython",
    "version": 3
   },
   "file_extension": ".py",
   "mimetype": "text/x-python",
   "name": "python",
   "nbconvert_exporter": "python",
   "pygments_lexer": "ipython3",
   "version": "3.11.4"
  },
  "orig_nbformat": 4
 },
 "nbformat": 4,
 "nbformat_minor": 2
}
