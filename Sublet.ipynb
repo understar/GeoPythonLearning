{
 "cells": [
  {
   "cell_type": "code",
   "execution_count": 1,
   "metadata": {},
   "outputs": [],
   "source": [
    "import datetime"
   ]
  },
  {
   "cell_type": "code",
   "execution_count": 17,
   "metadata": {},
   "outputs": [],
   "source": [
    "monthly_rent = 3120\n",
    "deposit = 3120\n",
    "lease_start = datetime.date(2023,7,7)\n",
    "lease_end = datetime.date(2024,7,6)\n",
    "total_days = lease_end - lease_start\n",
    "dayly_rent = monthly_rent * 12 / total_days.days"
   ]
  },
  {
   "cell_type": "code",
   "execution_count": 25,
   "metadata": {},
   "outputs": [],
   "source": [
    "sublet_start = datetime.date(2023, 9, 24) # 开始出租时间\n",
    "sublet_end = datetime.date(2024, 7, 6) # 结束出租时间\n",
    "sublet_days = sublet_end - sublet_start"
   ]
  },
  {
   "cell_type": "code",
   "execution_count": 47,
   "metadata": {},
   "outputs": [
    {
     "data": {
      "text/plain": [
       "286"
      ]
     },
     "execution_count": 47,
     "metadata": {},
     "output_type": "execute_result"
    }
   ],
   "source": [
    "sublet_days.days"
   ]
  },
  {
   "cell_type": "markdown",
   "metadata": {},
   "source": [
    "按照租赁的时间，亏掉一个月房租来进行计算。"
   ]
  },
  {
   "cell_type": "code",
   "execution_count": 54,
   "metadata": {},
   "outputs": [
    {
     "name": "stdout",
     "output_type": "stream",
     "text": [
      "日租金最低值：91.66625155666252, 押金：1600\n"
     ]
    }
   ],
   "source": [
    "dayly_rent_discount = dayly_rent - montly_rent/sublet_days.days\n",
    "risk_supply = 1600\n",
    "print(f\"日租金最低值：{dayly_rent_discount}, 押金：{risk_supply}\")"
   ]
  },
  {
   "cell_type": "code",
   "execution_count": 55,
   "metadata": {},
   "outputs": [
    {
     "name": "stdout",
     "output_type": "stream",
     "text": [
      "月租金最低值：2749.9875466998756\n"
     ]
    }
   ],
   "source": [
    "print(f\"月租金最低值：{30 * dayly_rent_discount}\")"
   ]
  },
  {
   "cell_type": "code",
   "execution_count": 56,
   "metadata": {},
   "outputs": [
    {
     "name": "stdout",
     "output_type": "stream",
     "text": [
      "押金可以化解多少天的风险？146.6666666666667\n"
     ]
    }
   ],
   "source": [
    "print(f\"押金可以化解多少天的风险？{risk_supply/(dayly_rent - dayly_rent_discount)}\")"
   ]
  },
  {
   "cell_type": "code",
   "execution_count": null,
   "metadata": {},
   "outputs": [],
   "source": []
  }
 ],
 "metadata": {
  "kernelspec": {
   "display_name": ".venv",
   "language": "python",
   "name": "python3"
  },
  "language_info": {
   "codemirror_mode": {
    "name": "ipython",
    "version": 3
   },
   "file_extension": ".py",
   "mimetype": "text/x-python",
   "name": "python",
   "nbconvert_exporter": "python",
   "pygments_lexer": "ipython3",
   "version": "3.11.4"
  },
  "orig_nbformat": 4
 },
 "nbformat": 4,
 "nbformat_minor": 2
}
